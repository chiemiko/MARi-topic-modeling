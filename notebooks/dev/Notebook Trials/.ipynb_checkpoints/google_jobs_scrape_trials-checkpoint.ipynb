{
 "cells": [
  {
   "cell_type": "markdown",
   "metadata": {},
   "source": [
    "# Steps: \n",
    "\n",
    "- set up urls filters and tracking \n",
    "- run google chrome scrape \n",
    "\n",
    "- extraction of data and create data frame \n"
   ]
  },
  {
   "cell_type": "code",
   "execution_count": 10,
   "metadata": {},
   "outputs": [],
   "source": [
    "from requests import get\n",
    "from requests.exceptions import RequestException\n",
    "from contextlib import closing\n",
    "from bs4 import BeautifulSoup\n",
    "from datetime import datetime\n",
    "import urllib.request\n",
    "\n",
    "import pandas as pd\n",
    "\n",
    "\n",
    "\n",
    "class AppURLopener(urllib.request.FancyURLopener):\n",
    "    version = \"Mozilla/5.0\"\n",
    "\n",
    "\n",
    "\n",
    "def is_good_response(resp):\n",
    "    \"\"\"\n",
    "    Returns 'True' if the response seems to be HTML, 'False' otherwise.\n",
    "    \"\"\"\n",
    "    content_type = resp.headers['Content-Type'].lower()\n",
    "    return (resp.status_code == 200 \n",
    "            and content_type is not None \n",
    "            and content_type.find('html') > -1)\n",
    "\n",
    "\n",
    "def log_error(e):\n",
    "    \"\"\"\n",
    "    It is always a good idea to log errors. This function just prints them, but you can make it do anything.\n",
    "    \"\"\"\n",
    "    print(e)\n",
    "\n",
    "\n",
    "def get_names(url):\n",
    "    \"\"\"\n",
    "    Downloads the LinkedIn page to create a beautiful soup object with html information\n",
    "    \"\"\"\n",
    "    \n",
    "    try:\n",
    "        with closing(get(url, stream=True)) as resp:\n",
    "            if is_good_response(resp):\n",
    "                response = resp.content\n",
    "                \n",
    "                \n",
    "                if response is not None:\n",
    "                    html = BeautifulSoup(response, 'lxml')\n",
    "                    #print(html)\n",
    "                    return html\n",
    "                # Raise an exception if we failed to get any data from the url\n",
    "                #raise Exception('Error retrieving contents at {}'.format(url))\n",
    "\n",
    "                \n",
    "            else:\n",
    "                pass\n",
    "\n",
    "    except RequestException as e:\n",
    "        # MAIN ERROR? \n",
    "        log_error('Error during requests to {0} : {1}'.format(url, str(e)))\n",
    "        return None\n"
   ]
  },
  {
   "cell_type": "code",
   "execution_count": 11,
   "metadata": {},
   "outputs": [],
   "source": [
    "def get_url(city, role):\n",
    "    \n",
    "    '''gets the url for the city (ie 'San Francisco, California') and job role (ie 'Data Scientist')'''\n",
    "    search_role = ''\n",
    "        \n",
    "    for word in role.split():\n",
    "        search_role = search_role + '+' + word\n",
    "    search_role = search_role[1:len(search_role)]\n",
    "    \n",
    "    for word in city.split():\n",
    "        search_role = search_role + '+' + word\n",
    "    url = f'https://www.google.com/search?q={search_role}&ibp=htl;jobs#fpstate=tldetail&htidocid=bNuueDIcYnkfbPOvAAAAAA%3D%3D&htivrt=jobs'\n",
    "    # https://www.google.com/search?q=data+science+jobs+new+york,+new+york&ibp=htl;jobs#fpstate=tldetail&htidocid=bNuueDIcYnkfbPOvAAAAAA%3D%3D&htivrt=jobs\n",
    "\n",
    "    return url \n",
    "\n"
   ]
  },
  {
   "cell_type": "code",
   "execution_count": 3,
   "metadata": {},
   "outputs": [
    {
     "data": {
      "text/plain": [
       "'https://www.google.com/search?q=Data+Engineer+New+York,+New+York&ibp=htl;jobs#fpstate=tldetail&htidocid=bNuueDIcYnkfbPOvAAAAAA%3D%3D&htivrt=jobs'"
      ]
     },
     "execution_count": 3,
     "metadata": {},
     "output_type": "execute_result"
    }
   ],
   "source": [
    "get_url('New York, New York', 'Data Engineer')"
   ]
  },
  {
   "cell_type": "markdown",
   "metadata": {},
   "source": [
    "# For URL extraction"
   ]
  },
  {
   "cell_type": "code",
   "execution_count": 4,
   "metadata": {},
   "outputs": [],
   "source": [
    "def get_divs(soup):\n",
    "    urls = []\n",
    "    soups = []\n",
    "    companies = []\n",
    "    titles = []\n",
    "    descriptions = []\n",
    "    locations = []\n",
    "    post_dates = []\n",
    "    \n",
    "    '''Extract company names'''\n",
    "    # for item in soup.find_all('a', attrs={'class': 'result-card__subtitle-link job-result-card__subtitle-link'}):        \n",
    "        \n",
    "    \n",
    "    for item in soup.find_all('h4', attrs={'class': 'result-card__subtitle job-result-card__subtitle'}):\n",
    "        companies.append(item.text)\n",
    "        \n",
    "    #print()\n",
    "    #<h4 class=\"result-card__subtitle job-result-card__subtitle\">\n",
    "    \n",
    "    '''Extract location'''\n",
    "\n",
    "    for item in soup.find_all('span', attrs={'class': 'job-result-card__location'}):\n",
    "        locations.append(item.text)\n",
    "    \n",
    "    '''Extract title information'''\n",
    "    for item in soup.find_all('span', attrs={'class': 'screen-reader-text'}):\n",
    "        titles.append(item.text)\n",
    "\n",
    "    '''Extract post date of position'''\n",
    "    for item in soup.find_all('time'):\n",
    "        post_dates.append(item.get('datetime'))\n",
    "    \n",
    "    '''Extract descriptions'''\n",
    "    for item in soup.find_all('p', attrs={'class': 'job-result-card__snippet'}):\n",
    "        descriptions.append(item.text)\n",
    "    \n",
    "    '''Extract urls'''\n",
    "    for item in soup.find_all('a', href=True):\n",
    "\n",
    "        if item.get('href')[29:34] == '/view':\n",
    "            new_url = item.get('href')\n",
    "            urls.append(new_url)\n",
    "\n",
    "    '''   \n",
    "    print(len(companies))\n",
    "    print(companies)\n",
    "    \n",
    "    print(len(locations))\n",
    "    print(locations)\n",
    "    \n",
    "    print(len(titles))\n",
    "    print(titles)\n",
    "    \n",
    "    print(len(post_dates))\n",
    "    print(len(descriptions))\n",
    "    print(len(urls))\n",
    "    print(urls)\n",
    "    \n",
    "    print()\n",
    "    print('soup')\n",
    "    print(soup)\n",
    "    '''\n",
    "    \n",
    "    # Make a dataframe object out of a dictionary of arrays\n",
    "    df = pd.DataFrame({\n",
    "        \"company\": companies,\n",
    "        \"location\": locations,\n",
    "        \"title\": titles,\n",
    "        \"post_date\": post_dates,\n",
    "        \"description\": descriptions\n",
    "        , \"url\": urls\n",
    "    })\n",
    "    \n",
    "    return df\n",
    "    \n",
    "    \n",
    "\n"
   ]
  },
  {
   "cell_type": "code",
   "execution_count": 5,
   "metadata": {},
   "outputs": [],
   "source": [
    "def add_full_desc(df):\n",
    "    \n",
    "    'Extracts full linkedin post info and adds to 5 columns to existing dataframe per each city/role'\n",
    "    \n",
    "    full_job_desc = []\n",
    "    seniority_level = []\n",
    "    employment_type = []\n",
    "    job_function = []\n",
    "    industries = []\n",
    "    \n",
    "    '''Gets url from url column in each row'''        \n",
    "    for index, row in df.iterrows():\n",
    "        soup = get_names(row[5])\n",
    "                \n",
    "        '''Extracting job post body'''\n",
    "        info = get_linkedin_info(soup)\n",
    "        full_job_desc.append(info['full_desc'])\n",
    "                    \n",
    "        if info['Seniority level'] is not None:\n",
    "            seniority_level.append(info['Seniority level'])\n",
    "        else:\n",
    "            seniority_level.append('NA')\n",
    "                \n",
    "        if info['Employment type'] is not None:\n",
    "            employment_type.append(info['Employment type'])\n",
    "        else:\n",
    "            employment_type.append('NA')\n",
    "                \n",
    "        if info['Job function'] is not None:\n",
    "            job_function.append(info['Job function'])\n",
    "        else:\n",
    "            job_function.append('NA')\n",
    "                \n",
    "        if info['Industries'] is not None:\n",
    "            industries.append(info['Industries'])\n",
    "        else:\n",
    "            industries.append('NA')\n",
    "                \n",
    "    df['full_desc'] = full_job_desc\n",
    "    df['seniority_level']= seniority_level\n",
    "    df['employment_type']= employment_type\n",
    "    df['job_function']= job_function\n",
    "    df['industries']= industries\n",
    "    \n",
    "    return df"
   ]
  },
  {
   "cell_type": "code",
   "execution_count": 6,
   "metadata": {},
   "outputs": [],
   "source": [
    "def get_linkedin_info(soup):\n",
    "    \n",
    "    \"takes soup object and turns into LinkedIn full description\"\n",
    "    additional_info = {}\n",
    "    full_desc = ''\n",
    "    for item in soup.find_all('p'):\n",
    "        #print(item)\n",
    "        #print()\n",
    "        full_desc = full_desc + item.text\n",
    "        full_desc = full_desc + ' \\n'\n",
    "        #print(full_desc)\n",
    "    \n",
    "    additional_info['full_desc'] = full_desc\n",
    "\n",
    "    '''Extracting Additional Categories from LinkedIn Post'''\n",
    "    for item in soup.find_all('h3', attrs={'class': 'job-criteria__subheader'}):\n",
    "        '''Make a library with the key names as the category (ie seniority level, industry, job functions, employment type)'''\n",
    "        additional_info[item.text] = item.next_sibling.text\n",
    "        \n",
    "            \n",
    "        item2 = item.next_sibling\n",
    "        while item2.next_sibling is not None:\n",
    "            additional_info[item.text] = additional_info[item.text] + ', ' + item2.next_sibling.text\n",
    "            #print(additional_info[item])\n",
    "            item2 = item2.next_sibling\n",
    "        #print()\n",
    "        \n",
    "        \n",
    "        \n",
    "    return additional_info\n",
    "            \n"
   ]
  },
  {
   "cell_type": "code",
   "execution_count": 13,
   "metadata": {},
   "outputs": [
    {
     "name": "stdout",
     "output_type": "stream",
     "text": [
      "https://www.google.com/search?q=Data+Scientist+San+Francisco,+California&ibp=htl;jobs#fpstate=tldetail&htidocid=bNuueDIcYnkfbPOvAAAAAA%3D%3D&htivrt=jobs\n",
      "<!DOCTYPE html>\n",
      "<html><head><meta charset=\"utf-8\"/><meta content=\"/images/branding/googleg/1x/googleg_standard_color_128dp.png\" itemprop=\"image\"/><title>Jobs</title><script nonce=\"8rBOOD7/kwN4N/uGAG+TUg==\">(function(){window.google={kEI:'vgo-XdS2CIaU0gKa3IawBQ',authuser:0};google.sn='web';google.kHL='en';google.jsfs='';})();(function(){google.lc=[];google.li=0;google.getEI=function(a){for(var b;a&&(!a.getAttribute||!(b=a.getAttribute(\"eid\")));)a=a.parentNode;return b||google.kEI};google.getLEI=function(a){for(var b=null;a&&(!a.getAttribute||!(b=a.getAttribute(\"leid\")));)a=a.parentNode;return b};google.https=function(){return\"https:\"==window.location.protocol};google.ml=function(){return null};google.time=function(){return(new Date).getTime()};google.log=function(a,b,e,c,g){if(a=google.logUrl(a,b,e,c,g)){b=new Image;var d=google.lc,f=google.li;d[f]=b;b.onerror=b.onload=b.onabort=function(){delete d[f]};google.vel&&google.vel.lu&&google.vel.lu(a);b.src=a;google.li=f+1}};google.logUrl=function(a,b,e,c,g){var d=\"\",f=google.ls||\"\";e||-1!=b.search(\"&ei=\")||(d=\"&ei=\"+google.getEI(c),-1==b.search(\"&lei=\")&&(c=google.getLEI(c))&&(d+=\"&lei=\"+c));c=\"\";!e&&google.cshid&&-1==b.search(\"&cshid=\")&&\"slh\"!=a&&(c=\"&cshid=\"+google.cshid);a=e||\"/\"+(g||\"gen_204\")+\"?atyp=i&ct=\"+a+\"&cad=\"+b+d+f+\"&zx=\"+google.time()+c;/^http:/i.test(a)&&google.https()&&(google.ml(Error(\"a\"),!1,{src:a,glmm:1}),a=\"\");return a};}).call(this);google.f={};(function(){var a=window.performance;window.start=(new Date).getTime();a:{var b=window;if(a){var c=a.timing;if(c){var d=c.navigationStart,e=c.responseStart;if(e>d&&e<=window.start){window.start=e;b.wsrt=e-d;break a}}a.now&&(b.wsrt=Math.floor(a.now()))}}window.google=window.google||{};google.aft=function(f){f.setAttribute(\"data-iml\",+new Date)};}).call(this);(function(){var b=[function(){google.tick&&google.tick(\"load\",\"dcl\")}];google.dclc=function(a){b.length?b.push(a):a()};function c(){for(var a;a=b.shift();)a()}window.addEventListener?(document.addEventListener(\"DOMContentLoaded\",c,!1),window.addEventListener(\"load\",c,!1)):window.attachEvent&&window.attachEvent(\"onload\",c);}).call(this);</script><style>.feGi6e,.RCxLAc{border-top:1px solid #DFE1E5;padding:20px 24px 20px 24px;color:#222;display:block;font-size:15px;font-weight:400;line-height:21px;overflow:hidden;text-overflow:ellipsis;white-space:nowrap}.V5niGc,.kQPfE{font-family:Roboto,HelveticaNeue,Arial,sans-serif;color:#222;border-bottom:1px solid #DFE1E5;display:block;font-size:15px !important;font-weight:400;line-height:21px;padding:20px 24px 20px 24px}.Ea153d{font-size:18px !important}.V5niGc a{color:inherit}.bkWMgd{border-bottom:0}.card-section,.xo6e2b{display:block;margin:0;padding:0px 24px 0px 24px}.card-section~.card-section:not(.rQUFld),.card-section~div>.card-section:not(.rQUFld),.xo6e2b~.xo6e2b:not(.rQUFld){border-top:1px solid #DFE1E5}.V5niGc .m5quV{margin-bottom:-20px}.card-section .x3Vcd{margin-top:-0px}.card-section .FZCAbf{margin-right:-24px}.card-section .m5quV{margin-bottom:-0px}.card-section .Wxuafb{margin-left:-24px}.fidQXb{padding-bottom:0}.card:not(:empty),.mnr-c:not(:empty){background-color:#fff;margin:0 0 16px 0;overflow:hidden;box-shadow:0 1px 6px rgba(32, 33, 36, 0.28);border-radius:8px;}.mnr-c .mnr-c{box-shadow:none}.card .card,.mnr-c .mnr-c{margin-bottom:0 !important}.iUh30{font-size:15px;}.hJND5c,.slp{display:block;margin-bottom:1px}.f,.f a:link{color:#3C4043;}.a,cite,cite a:link,cite a:visited,.cite,.cite:link,#nygTcd>i,.bc a:link{color:#006621;font-style:normal}a.fl:link,.fl a,.flt,a.flt,.gl a:link,a.mblink,.mblink b{color:#1967D2}#resultStats{color:#999;}.osl{margin-top:4px}#lb{z-index:1001;position:absolute;top:-1000px}.WqQeqc{display:inline-block;height:24px;position:relative;width:24px;z-index:0}.WqQeqc span{display:block;background-color:currentColor;height:100%;mask-size:100% 100%;width:100%;}.vk_h{}.vk_c a{text-decoration:none}.vk_gn{color:#3d9400 !important}.vk_rd{color:#dd4b39 !important}.bTuXH{color:#545454 !important}.vk_gy{color:#878787 !important}.vk_lgy{color:#bababa !important}.vk_blgy{border-color:#bababa}.vk_bk{color:#212121 !important}.vk_fl a{color:#878787}.vk_fl a:hover{color:#1967D2}.dDoNo{font-weight:lighter !important;margin-bottom:5px}.dDoNo{font-size:xx-large !important}.dDoNo.vk_long{font-size:20px !important}.vk_h{font-weight:lighter !important}.vk_h{font-size:x-large !important}.vk_sh,.vk_hs,.vk_med{font-weight:lighter !important}.vk_sh{font-size:medium !important}.Uekwlc{font-weight:lighter !important}.Uekwlc{font-size:small !important;}.p13zmc{font-weight:lighter !important}.vk_cdns{font-size:13px !important}.cYvRhe{font-weight:bold !important}body,.g,html,.std,.c h2,h1,#cdr_min,#cdr_max,.cpbb,.kpbb,.kprb,.kpgb,.kpgrb,.ksb{font-family:Roboto,HelveticaNeue,Arial,sans-serif}.dDoNo,.vk_h,.vk_sh,.Uekwlc,.p13zmc{font-family:arial,sans-serif-light,sans-serif}.cYvRhe,.di8g3{font-family:arial,sans-serif-medium,sans-serif}.vk_c,.vk_cxp,#rhs .fIcnad{border:none;box-shadow:0px 1px 4px 0px rgba(0,0,0,0.2);box-shadow:0px 1px 4px 0px rgba(0,0,0,0.2)}#rhs .fIcnad{border:none;margin-left:2px}.vk_c,.vk_cxp{position:relative}.vkc_np{margin-left:-20px;margin-right:-20px}.WIDPrb,.ts .WIDPrb{padding-left:20px}.iiFzhd,.ts .iiFzhd{padding-right:20px}.vk_pt,.ts .vk_pt{padding-top:20px}.QiLuMc{padding-bottom:20px}.vk_c,.vk_cxp{margin-left:-8px;margin-right:-35px}.vk_c,.vk_cxp,.vk_ic{padding:20px 20px 24px 20px}.vk_c .vk_c,.vk_c .vk_cxp{border-radius:0;box-shadow:none;background-color:transparent;border:0;box-shadow:none;margin:0;padding:0;position:static}.vk_cxp{padding-top:30px;padding-bottom:34px}.vk_c_cxp{margin-top:10px;margin-bottom:10px}.vk_gbb{border-bottom:1px solid #eee}.vk_gbr{border-right:1px solid #eee}.vk_gbt{border-top:1px solid #eee}.vk_cf{margin:0 -20px 0 -20px;padding:16px 20px 16px 20px}.vk_cf a,.vk_cf a:link,a.vk_cf,a.vk_cf:link{color:#878787}.vk_cf a:hover,a.vk_cf:hover{color:#1967D2}.vk_slic{display:inline-block;margin-top:-3px;margin-right:16px;position:relative;height:24px;width:24px;vertical-align:middle}.vk_sli,.vk_slih{border:none;position:absolute;top:0;left:0;height:24px;width:24px}a:hover .vk_sli,.vk_slih{display:none}a:hover .vk_slih,.vk_sli{display:inline-block}.vk_spc{height:16px;width:100%}.vk_ra{transform:rotate(90deg)}.vk_arc{border-top:1px solid #DFE1E5;cursor:pointer;height:0px;margin-bottom:-23px;overflow:hidden;padding:20px 0;text-align:center}.vk_ard{top:-11px}.vk_aru{bottom:-6px}.vk_ard,.vk_aru{background-color:#e5e5e5;margin-left:auto;margin-right:auto;position:relative}.vk_ard,.vk_aru{height:6px;width:64px}.vk_ard:after,.vk_ard:before,.vk_aru:after,.vk_aru:before{content:' ';height:0;left:0;position:absolute;width:0}.vk_ard:after,.vk_ard:before,.vk_aru:after,.vk_aru:before{border-left:32px solid rgba(229,229,229,0);border-right:32px solid rgba(229,229,229,0)}.vk_ard:before{border-top:16px solid #e5e5e5;top:6px}.vk_aru:before{border-bottom:16px solid #e5e5e5;bottom:6px}.vk_ard:after{top:0}.vk_ard:after{border-top:16px solid #fff}.vk_aru:after{bottom:0}.vk_aru:after{border-bottom:16px solid #fff}.vk_bk.vk_ard,.vk_bk.vk_aru{background-color:#212121}.vk_bk.vk_ard:before{border-top-color:#212121}.vk_bk.vk_aru:before{border-bottom-color:#212121}.di8g3{font-size:11px !important;padding:6px 8px}#center_col .di8g3{margin:0 -35px 0 -8px;padding:6px 20px 0}#rhs .di8g3{margin-left:2px;padding-bottom:5px;padding-top:5px}.di8g3,.di8g3 a{color:#878787 !important;text-decoration:none}.di8g3 a:hover{text-decoration:underline}.hntNk.vk_c{padding-top:24px;padding-bottom:20px}.hntNk .dDoNo{margin-bottom:0;word-wrap:break-word}.hntNk .vk_gy{margin-bottom:5px}.pVFdhc{background-color:#ebebeb;height:1px}.vk_tbl{border-collapse:collapse}.vk_tbl td{padding:0}.xpdclps,.xpdxpnd{overflow:hidden}.xpdclps,.xpdxpnd{transition:max-height 0.3s}.xpdxpnd,.xpdopen .xpdclps,.xpdopen .xpdxpnd.xpdnoxpnd{max-height:0}.xpdopen .xpdxpnd{max-height:none}.xpdopen .xpdbox .xpdxpnd,.xpdopen .xpdbox.xpdopen .xpdclps{max-height:0}.xpdopen .xpdbox.xpdopen .xpdxpnd,.xpdopen .xpdbox .xpdclps{max-height:none}.xpdclose .k5nfEc,.xpdopen .f9jNFb{display:none}.focused{}.appbar{}.qs-l{}@-webkit-keyframes qs-timer {0%{}}body{margin:0;background:#fff;font-family:Roboto,HelveticaNeue,Arial,sans-serif;color:#3C4043;}.st{color:#3C4043}#cnt{overflow-x:hidden;margin-top:-10px;padding-top:10px;}.g,body,html,.std,h1{font-size:small;font-family:Roboto,HelveticaNeue,Arial,sans-serif}h3,#rso,#topstuff,.r{font-size:medium}body.qs-l{overflow:hidden}.c h2{color:#666}a,.w,a.feGi6e{color:#1967D2;text-decoration:none;-webkit-tap-highlight-color:rgba(0,0,0,.1)}.mblink:visited,a:visited{color:#4B11A8}.nA3Vyd,.qE5Dec{border-top-left-radius:8px;border-top-right-radius:8px}.eJhUR,.qE5Dec{border-bottom-left-radius:8px;border-bottom-right-radius:8px}.zbA8Me{font-weight:bold;text-transform:uppercase;font-size:12px;line-height:12px;letter-spacing:0.3px}.s .st em,.st.s.std em{color:#3C4043}h3{font-weight:normal;margin:0;padding:0}.r{font-size:medium;font-weight:inherit;margin:0}h3.r{line-height:}#rso h3,#topstuff h3{font-size:}cite{color:#006621;font-style:normal}em{font-weight:bold;font-style:normal}ol li{list-style:none}ol,ul,li{margin:0;padding:0}button{margin:0}.g,.C4eCVc{font-size:14px;line-height:20px;text-align:left}#tads a{text-decoration:none}.center_col,#fbtns{padding:1px 10px 0}#fbtns{padding-top:0}.b{font-weight:bold}.xsm{font-size:x-small}.std{font-size:small}.ts{border-collapse:collapse}.ts td{padding:0}.ts.std .r a{color:#1967D2;border-bottom:0}.ts.std .r a:visited{color:#4B11A8;border-bottom:0}.cpbb,.kpbb,.kprb,.kpgb,.kpgrb,.ksb{border-radius:2px;cursor:default;font-family:Roboto,HelveticaNeue,Arial,sans-serif;font-size:11px;font-weight:bold;height:27px;line-height:27px;margin:2px 0;min-width:54px;padding:0 8px;text-align:center;transition:all 0.218s,visibility 0s}.kpbb,.kprb,.kpgb,.kpgrb{color:#fff}.kpbb{background-color:#4d90fe;background-image:linear-gradient(top,#4d90fe,#4787ed);border:1px solid #3079ed}.kpgrb{background-color:#f5f5f5;background-image:linear-gradient(top,#f5f5f5,#f1f1f1);border:1px solid #dcdcdc;color:#555}.ksb{background-color:#f8f8f8;background-image:linear-gradient(top,#f8f8f8,#f1f1f1);border:1px solid #c6c6c6;color:#222}.ksb.mini{box-sizing:content-box;height:17px;line-height:17px;min-width:0}a.ab_button{display:inline-block}.osl{overflow:hidden;color:#70757A}.osl a{white-space:nowrap}.ellip{overflow:hidden;text-overflow:ellipsis;white-space:nowrap}.csb{display:block}.gic{position:relative;overflow:hidden;z-index:0}[data-hveid]{tap-highlight-color:rgba(0,0,0,0)}.rc{position:relative;}.gl:visited{color:#666}.bprBJc{display:flex;align-items:center}.gy3q1e{vertical-align:middle;display:inline-block}.khgTR{border-bottom:1px solid #DFE1E5;display:block;line-height:22px;margin:0px 0 12px;padding:0 0 11px;}.khgTR .f.hJND5c{margin-top:0px;overflow:hidden;white-space:nowrap}.khgTR.QEhTP{border-bottom:none;margin-bottom:0;padding-bottom:0}.khgTR.lWEpfd{border-bottom:none;margin-bottom:0;padding-bottom:0}.uZfOAb{clear:both;}.jtDWfd{margin-left:-10px;margin-right:-10px}.gpeho{margin-left:-10px;margin-right:-10px;padding:12px 0 5px}.tTfzVd{padding-top:9px}.pb0Ufd{border-radius:4px;border:1px solid rgba(0,0,0,0.12);font-size:14px;line-height:16px;margin-left:10px;padding:7px 8px;display:inline-block;text-align:center}.pb0Ufd:last-child{margin-right:24px}.qB8Uve{display:block;line-height:20px;position:relative;white-space:nowrap}.lP8Inb{padding-right:0;white-space:normal}.J6AsYb{left:0;position:absolute;top:0}.mJ9kob{display:inline-block}.sbuwl{color:#202124;overflow:hidden;text-overflow:ellipsis}.P1usbc{display:table;color:#808080;margin-top:16px;}.G1Rrjc{display:table-cell;padding-left:15px;vertical-align:baseline}.i4vd5e{display:table-cell}.VNLkW{display:table-row;vertical-align:top}.h7mcFf{color:#999}.k6DEPe{margin-top:4px}.P1usbc .FUUCsd{color:#202124}.P1usbc .FUUCsd span{color:#70757A}.TXwUJf{color:#3C4043}.PcHvNb{position:absolute}.N3nEGc{background-color:#fff;float:left;overflow:hidden;margin-top:4px;position:relative}.wEQKyf.N3nEGc{float:right;margin:7px 0 5px 12px}.Ixi80c{margin-top:0px}.i0PvJb{background-color:#000}.mWTy7c{border-top-left-radius:2px;bottom:0;font-size:11px;font-weight:bold;padding:1px 3px;position:absolute;right:0;text-align:right;text-decoration:none;background-color:rgba(0,0,0,.7);color:#fff}.bc{}.TbwUpd a.fl{font-size:15px}.TbwUpd.rLwn0d{overflow:hidden;text-overflow:ellipsis}.WjWTQ{color:#3C4043;font-style:italic}.H89pHb{margin-right:6px}.st sup{line-height:0.9}.mOd06 em{font-weight:bold !important}#hdtbSum,a,.g8uwNb,cite{font-family:Roboto,HelveticaNeue,Arial,sans-serif !important;font-weight:inherit}.f>a,.TXwUJf,.TXwUJf a{font-family:Roboto,HelveticaNeue,Arial,sans-serif !important}.kno-ecr-pt{}.kno-ecr-pt{color:#000;font-family:arial,sans-serif-light,sans-serif;display:inline;font-size:30px;font-weight:normal;position:relative;transform-origin:left top;transform-origin:left top;word-wrap:break-word}#pnnext b{font-weight:normal}.fmulti{}.GNlFYb{color:#5f6368}.p2Kmnc{color:#222;font-size:14px;font-weight:normal;tap-highlight-color:rgba(0,0,0,0)}.Seo5Sb{display:inline-block;opacity:0.55;vertical-align:top}a.p2Kmnc:hover .Seo5Sb,a.p2Kmnc:active .Seo5Sb{opacity:1.0}.GNlFYb{margin:40px 0}.TfEe9d{margin-right:10px}.fbar p{display:inline}.fbar a,#fsettl{text-decoration:none;white-space:nowrap}.fbar{margin-left:-27px}.Fx4vi{padding-left:27px;margin:0 !important}.In26Ec{padding:0 !important;margin:0 !important}#fbarcnt{display:block}.smiUbb img{margin-right:4px}.smiUbb a,.M6hT6 #swml a{text-decoration:none}.fmulti{text-align:center}.fmulti #fsr{display:block;float:none}.fmulti #fuser{display:block;float:none}#fuserm{line-height:25px}#fsr{float:right;white-space:nowrap}#fsl{white-space:nowrap}#fsett{background:#fff;border:1px solid #999;bottom:30px;padding:10px 0;position:absolute;box-shadow:0 2px 4px rgba(0,0,0,0.2);box-shadow:0 2px 4px rgba(0,0,0,0.2);text-align:left;z-index:104}#fsett a{display:block;line-height:44px;padding:0 20px;text-decoration:none;white-space:nowrap}.p2Kmnc{padding:8px 16px;margin-right:10px}.B4GxFc{margin-left:135px}#fbar{background:#f2f2f2;border-top:1px solid #e4e4e4;line-height:40px;min-width:980px}.yBWvle{margin-left:135px}.fbar p,.fbar a,#fsettl,#fsett a{color:#5f6368}.fbar a:hover,#fsett a:hover{color:#333}.fbar{font-size:small}#fuser{float:right}.smiUbb{margin-left:135px;line-height:15px;color:#5f6368;}.known_loc{background:#4285f4}.unknown_loc{background:#9e9e9e}.known_loc,.unknown_loc{border-radius:100%;display:inline-block;height:10px;margin:6px 4px 9px 0;vertical-align:middle;width:10px}#Wprf1b{color:#333;font-weight:bold}#swml a{display:inline-block}</style></head><body jsmodel=\" \"><style>html,body{font-family:'Roboto',arial,sans-serif;height:100%}</style><div jsdata=\"ALusFc;;CSZV5E\" jsmodel=\"uIhXXc\"><div><style>.w43NHb{background-color:#fafafa;height:100%;position:absolute;width:100%;display:flex;justify-content:center;flex-direction:column}.qDdeqd{flex:1}.diIKdd{flex:2;text-align:center}.SC3FEd{padding-top:34px;font-size:18px;font-weight:medium;color:rgba(0,0,0,.87)}.oLm9bf{padding-top:28px;vertical-align:middle;font-size:14px;font-weight:medium;color:#2869D3}.oLm9bf a{text-decoration:none;text-transform:uppercase}.oLm9bf a:visited{color:#2869D3}</style><div class=\"w43NHb\"><div class=\"qDdeqd\"></div><div class=\"diIKdd\"><div><img alt=\"\" src=\"data:image/png;base64,iVBORw0KGgoAAAANSUhEUgAAAEcAAABEBAMAAAAhCjWCAAAAFVBMVEVMaXEAAAAAAAAAAAAAAAAAAAAAAACpf3wfAAAAB3RSTlMAFjNMCD8iNAUUbQAAASxJREFUeAHl0jFTgzAYxvEHjJ2p9TpTuHPWPKVz76zOXFOdAdHv/xEEDDUCLxlcPPubMvzv3lzywhWktDaQKMOzEwRP/JbthSilIxam0bXFpAVdO0wK6dJyVB86b7NRgc4/im5evhiS4+Mxst8qs1+t6LMFrumTtXf0KpDSK4eh1z1I7paydR9tIVMXFgVJjZaqNnJkyMLuXC5FIckHAAFJLUWPJLWNuReiFRsArtiIZqIMdg+j34wL7VnNXRwpGdm5sRgFVf+Y5UXuk6UOB0+0Tgwbx7tIjNYpz2w2jNQ7XVk9ESnDgdM4WtDKaGkh0uUtALWs5EjX6KlKiF73cDybqWiDn4JkHCkMqT+/KjqZ0UWGXjlSesVY0StCSB8N+OfFziJJdmgFH3NKAJ9bpvgbi3fnBAAAAABJRU5ErkJggg==\"/></div><div class=\"SC3FEd\">Oops, your browser, device, and/or location is not yet supported.</div><div class=\"oLm9bf\"><a href=\"https://www.google.com\">Go to Google</a></div></div></div></div></div><textarea class=\"csi\" name=\"csi\" style=\"display:none\"></textarea><script nonce=\"8rBOOD7/kwN4N/uGAG+TUg==\">(function(){var e='vgo-XdS2CIaU0gKa3IawBQ';var sn='web';(function(){var q=function(a){var c=window,d=document;if(!a||\"none\"==a.style.display)return 0;if(d.defaultView&&d.defaultView.getComputedStyle){var b=d.defaultView.getComputedStyle(a);if(b&&(\"hidden\"==b.visibility||\"0px\"==b.height&&\"0px\"==b.width))return 0}if(!a.getBoundingClientRect)return 1;var f=a.getBoundingClientRect();a=f.left+c.pageXOffset;b=f.top+c.pageYOffset;var k=f.width;f=f.height;return 0>=f&&0>=k?0:0>b+f?2:b>=(c.innerHeight||d.documentElement.clientHeight)?3:0>a+k||a>=(c.innerWidth||d.documentElement.clientWidth)?4:1};var r=e,v=sn;function w(a,c,d){a=\"/gen_204?atyp=csi&s=\"+(v||\"web\")+\"&t=\"+a+(\"&lite=1&ei=\"+r+\"&conn=\"+(window.navigator&&window.navigator.connection?window.navigator.connection.type:-1)+c);c=\"&rt=\";for(var b in d)a+=c+b+\".\"+d[b],c=\",\";return a}function x(a){a={prt:a};window.wsrt&&(a.wsrt=window.wsrt);return a}function y(a){window.ping?window.ping(a):(new Image).src=a}\n",
      "(function(){for(var a=+new Date-window.start,c=x(a),d=0,b=0,f=0,k=document.getElementsByTagName(\"img\"),m=\"&imn=\"+k.length+\"&biw=\"+window.innerWidth+\"&bih=\"+window.innerHeight,A=function(h,z){h.onload=function(){b=+new Date-window.start;z&&++n==f&&(d=b,t());h.onload=null}},t=function(){m+=\"&ima=\"+f;c.aft=d;y(w(\"aft\",m,c))},n=0,B=0,g=void 0;g=k[B++];){var l=1==q(g);l&&++f;var u=g.complete&&!g.getAttribute(\"data-deferred\"),p=u&&Number(g.getAttribute(\"data-iml\"))||0;u&&p?(l&&++n,p&&(g=p-window.start,l&&(d=Math.max(d,g)),b=Math.max(b,g))):A(g,l)}d||(d=a);b||(b=d);n==f&&t();window.addEventListener(\"load\",function(){window.setTimeout(function(){c.ol=+new Date-window.start;c.iml=b;var h=window.performance&&window.performance.timing;h&&(c.rqst=h.responseEnd-h.requestStart,c.rspt=h.responseEnd-h.responseStart);y(w(\"all\",m,c))},0)},!1)})();}).call(this);})();</script><script nonce=\"8rBOOD7/kwN4N/uGAG+TUg==\">google.x(null, function(){(function(){(function(){google.csct={};google.csct.ps='AOvVaw3HoQCNaubdkRBm0hsgYkaz\\x26ust\\x3d1564433470147993';})();})();(function(){(function(){google.csct.rd=true;})();})();});google.drty&&google.drty();</script></body></html>\n",
      "https://www.google.com/search?q=Data+Analyst+San+Francisco,+California&ibp=htl;jobs#fpstate=tldetail&htidocid=bNuueDIcYnkfbPOvAAAAAA%3D%3D&htivrt=jobs\n",
      "<!DOCTYPE html>\n",
      "<html><head><meta charset=\"utf-8\"/><meta content=\"/images/branding/googleg/1x/googleg_standard_color_128dp.png\" itemprop=\"image\"/><title>Jobs</title><script nonce=\"g8kikI2E9U3wOj43X+c2yA==\">(function(){window.google={kEI:'vgo-XYb4DYKF0wLBvrOgCA',authuser:0};google.sn='web';google.kHL='en';google.jsfs='';})();(function(){google.lc=[];google.li=0;google.getEI=function(a){for(var b;a&&(!a.getAttribute||!(b=a.getAttribute(\"eid\")));)a=a.parentNode;return b||google.kEI};google.getLEI=function(a){for(var b=null;a&&(!a.getAttribute||!(b=a.getAttribute(\"leid\")));)a=a.parentNode;return b};google.https=function(){return\"https:\"==window.location.protocol};google.ml=function(){return null};google.time=function(){return(new Date).getTime()};google.log=function(a,b,e,c,g){if(a=google.logUrl(a,b,e,c,g)){b=new Image;var d=google.lc,f=google.li;d[f]=b;b.onerror=b.onload=b.onabort=function(){delete d[f]};google.vel&&google.vel.lu&&google.vel.lu(a);b.src=a;google.li=f+1}};google.logUrl=function(a,b,e,c,g){var d=\"\",f=google.ls||\"\";e||-1!=b.search(\"&ei=\")||(d=\"&ei=\"+google.getEI(c),-1==b.search(\"&lei=\")&&(c=google.getLEI(c))&&(d+=\"&lei=\"+c));c=\"\";!e&&google.cshid&&-1==b.search(\"&cshid=\")&&\"slh\"!=a&&(c=\"&cshid=\"+google.cshid);a=e||\"/\"+(g||\"gen_204\")+\"?atyp=i&ct=\"+a+\"&cad=\"+b+d+f+\"&zx=\"+google.time()+c;/^http:/i.test(a)&&google.https()&&(google.ml(Error(\"a\"),!1,{src:a,glmm:1}),a=\"\");return a};}).call(this);google.f={};(function(){var a=window.performance;window.start=(new Date).getTime();a:{var b=window;if(a){var c=a.timing;if(c){var d=c.navigationStart,e=c.responseStart;if(e>d&&e<=window.start){window.start=e;b.wsrt=e-d;break a}}a.now&&(b.wsrt=Math.floor(a.now()))}}window.google=window.google||{};google.aft=function(f){f.setAttribute(\"data-iml\",+new Date)};}).call(this);(function(){var b=[function(){google.tick&&google.tick(\"load\",\"dcl\")}];google.dclc=function(a){b.length?b.push(a):a()};function c(){for(var a;a=b.shift();)a()}window.addEventListener?(document.addEventListener(\"DOMContentLoaded\",c,!1),window.addEventListener(\"load\",c,!1)):window.attachEvent&&window.attachEvent(\"onload\",c);}).call(this);</script><style>.feGi6e,.RCxLAc{border-top:1px solid #DFE1E5;padding:20px 24px 20px 24px;color:#222;display:block;font-size:15px;font-weight:400;line-height:21px;overflow:hidden;text-overflow:ellipsis;white-space:nowrap}.V5niGc,.kQPfE{font-family:Roboto,HelveticaNeue,Arial,sans-serif;color:#222;border-bottom:1px solid #DFE1E5;display:block;font-size:15px !important;font-weight:400;line-height:21px;padding:20px 24px 20px 24px}.Ea153d{font-size:18px !important}.V5niGc a{color:inherit}.bkWMgd{border-bottom:0}.card-section,.xo6e2b{display:block;margin:0;padding:0px 24px 0px 24px}.card-section~.card-section:not(.rQUFld),.card-section~div>.card-section:not(.rQUFld),.xo6e2b~.xo6e2b:not(.rQUFld){border-top:1px solid #DFE1E5}.V5niGc .m5quV{margin-bottom:-20px}.card-section .x3Vcd{margin-top:-0px}.card-section .FZCAbf{margin-right:-24px}.card-section .m5quV{margin-bottom:-0px}.card-section .Wxuafb{margin-left:-24px}.fidQXb{padding-bottom:0}.card:not(:empty),.mnr-c:not(:empty){background-color:#fff;margin:0 0 16px 0;overflow:hidden;box-shadow:0 1px 6px rgba(32, 33, 36, 0.28);border-radius:8px;}.mnr-c .mnr-c{box-shadow:none}.card .card,.mnr-c .mnr-c{margin-bottom:0 !important}.iUh30{font-size:15px;}.hJND5c,.slp{display:block;margin-bottom:1px}.f,.f a:link{color:#3C4043;}.a,cite,cite a:link,cite a:visited,.cite,.cite:link,#nygTcd>i,.bc a:link{color:#006621;font-style:normal}a.fl:link,.fl a,.flt,a.flt,.gl a:link,a.mblink,.mblink b{color:#1967D2}#resultStats{color:#999;}.osl{margin-top:4px}#lb{z-index:1001;position:absolute;top:-1000px}.WqQeqc{display:inline-block;height:24px;position:relative;width:24px;z-index:0}.WqQeqc span{display:block;background-color:currentColor;height:100%;mask-size:100% 100%;width:100%;}.vk_h{}.vk_c a{text-decoration:none}.vk_gn{color:#3d9400 !important}.vk_rd{color:#dd4b39 !important}.bTuXH{color:#545454 !important}.vk_gy{color:#878787 !important}.vk_lgy{color:#bababa !important}.vk_blgy{border-color:#bababa}.vk_bk{color:#212121 !important}.vk_fl a{color:#878787}.vk_fl a:hover{color:#1967D2}.dDoNo{font-weight:lighter !important;margin-bottom:5px}.dDoNo{font-size:xx-large !important}.dDoNo.vk_long{font-size:20px !important}.vk_h{font-weight:lighter !important}.vk_h{font-size:x-large !important}.vk_sh,.vk_hs,.vk_med{font-weight:lighter !important}.vk_sh{font-size:medium !important}.Uekwlc{font-weight:lighter !important}.Uekwlc{font-size:small !important;}.p13zmc{font-weight:lighter !important}.vk_cdns{font-size:13px !important}.cYvRhe{font-weight:bold !important}body,.g,html,.std,.c h2,h1,#cdr_min,#cdr_max,.cpbb,.kpbb,.kprb,.kpgb,.kpgrb,.ksb{font-family:Roboto,HelveticaNeue,Arial,sans-serif}.dDoNo,.vk_h,.vk_sh,.Uekwlc,.p13zmc{font-family:arial,sans-serif-light,sans-serif}.cYvRhe,.di8g3{font-family:arial,sans-serif-medium,sans-serif}.vk_c,.vk_cxp,#rhs .fIcnad{border:none;box-shadow:0px 1px 4px 0px rgba(0,0,0,0.2);box-shadow:0px 1px 4px 0px rgba(0,0,0,0.2)}#rhs .fIcnad{border:none;margin-left:2px}.vk_c,.vk_cxp{position:relative}.vkc_np{margin-left:-20px;margin-right:-20px}.WIDPrb,.ts .WIDPrb{padding-left:20px}.iiFzhd,.ts .iiFzhd{padding-right:20px}.vk_pt,.ts .vk_pt{padding-top:20px}.QiLuMc{padding-bottom:20px}.vk_c,.vk_cxp{margin-left:-8px;margin-right:-35px}.vk_c,.vk_cxp,.vk_ic{padding:20px 20px 24px 20px}.vk_c .vk_c,.vk_c .vk_cxp{border-radius:0;box-shadow:none;background-color:transparent;border:0;box-shadow:none;margin:0;padding:0;position:static}.vk_cxp{padding-top:30px;padding-bottom:34px}.vk_c_cxp{margin-top:10px;margin-bottom:10px}.vk_gbb{border-bottom:1px solid #eee}.vk_gbr{border-right:1px solid #eee}.vk_gbt{border-top:1px solid #eee}.vk_cf{margin:0 -20px 0 -20px;padding:16px 20px 16px 20px}.vk_cf a,.vk_cf a:link,a.vk_cf,a.vk_cf:link{color:#878787}.vk_cf a:hover,a.vk_cf:hover{color:#1967D2}.vk_slic{display:inline-block;margin-top:-3px;margin-right:16px;position:relative;height:24px;width:24px;vertical-align:middle}.vk_sli,.vk_slih{border:none;position:absolute;top:0;left:0;height:24px;width:24px}a:hover .vk_sli,.vk_slih{display:none}a:hover .vk_slih,.vk_sli{display:inline-block}.vk_spc{height:16px;width:100%}.vk_ra{transform:rotate(90deg)}.vk_arc{border-top:1px solid #DFE1E5;cursor:pointer;height:0px;margin-bottom:-23px;overflow:hidden;padding:20px 0;text-align:center}.vk_ard{top:-11px}.vk_aru{bottom:-6px}.vk_ard,.vk_aru{background-color:#e5e5e5;margin-left:auto;margin-right:auto;position:relative}.vk_ard,.vk_aru{height:6px;width:64px}.vk_ard:after,.vk_ard:before,.vk_aru:after,.vk_aru:before{content:' ';height:0;left:0;position:absolute;width:0}.vk_ard:after,.vk_ard:before,.vk_aru:after,.vk_aru:before{border-left:32px solid rgba(229,229,229,0);border-right:32px solid rgba(229,229,229,0)}.vk_ard:before{border-top:16px solid #e5e5e5;top:6px}.vk_aru:before{border-bottom:16px solid #e5e5e5;bottom:6px}.vk_ard:after{top:0}.vk_ard:after{border-top:16px solid #fff}.vk_aru:after{bottom:0}.vk_aru:after{border-bottom:16px solid #fff}.vk_bk.vk_ard,.vk_bk.vk_aru{background-color:#212121}.vk_bk.vk_ard:before{border-top-color:#212121}.vk_bk.vk_aru:before{border-bottom-color:#212121}.di8g3{font-size:11px !important;padding:6px 8px}#center_col .di8g3{margin:0 -35px 0 -8px;padding:6px 20px 0}#rhs .di8g3{margin-left:2px;padding-bottom:5px;padding-top:5px}.di8g3,.di8g3 a{color:#878787 !important;text-decoration:none}.di8g3 a:hover{text-decoration:underline}.hntNk.vk_c{padding-top:24px;padding-bottom:20px}.hntNk .dDoNo{margin-bottom:0;word-wrap:break-word}.hntNk .vk_gy{margin-bottom:5px}.pVFdhc{background-color:#ebebeb;height:1px}.vk_tbl{border-collapse:collapse}.vk_tbl td{padding:0}.xpdclps,.xpdxpnd{overflow:hidden}.xpdclps,.xpdxpnd{transition:max-height 0.3s}.xpdxpnd,.xpdopen .xpdclps,.xpdopen .xpdxpnd.xpdnoxpnd{max-height:0}.xpdopen .xpdxpnd{max-height:none}.xpdopen .xpdbox .xpdxpnd,.xpdopen .xpdbox.xpdopen .xpdclps{max-height:0}.xpdopen .xpdbox.xpdopen .xpdxpnd,.xpdopen .xpdbox .xpdclps{max-height:none}.xpdclose .k5nfEc,.xpdopen .f9jNFb{display:none}.focused{}.appbar{}.qs-l{}@-webkit-keyframes qs-timer {0%{}}body{margin:0;background:#fff;font-family:Roboto,HelveticaNeue,Arial,sans-serif;color:#3C4043;}.st{color:#3C4043}#cnt{overflow-x:hidden;margin-top:-10px;padding-top:10px;}.g,body,html,.std,h1{font-size:small;font-family:Roboto,HelveticaNeue,Arial,sans-serif}h3,#rso,#topstuff,.r{font-size:medium}body.qs-l{overflow:hidden}.c h2{color:#666}a,.w,a.feGi6e{color:#1967D2;text-decoration:none;-webkit-tap-highlight-color:rgba(0,0,0,.1)}.mblink:visited,a:visited{color:#4B11A8}.nA3Vyd,.qE5Dec{border-top-left-radius:8px;border-top-right-radius:8px}.eJhUR,.qE5Dec{border-bottom-left-radius:8px;border-bottom-right-radius:8px}.zbA8Me{font-weight:bold;text-transform:uppercase;font-size:12px;line-height:12px;letter-spacing:0.3px}.s .st em,.st.s.std em{color:#3C4043}h3{font-weight:normal;margin:0;padding:0}.r{font-size:medium;font-weight:inherit;margin:0}h3.r{line-height:}#rso h3,#topstuff h3{font-size:}cite{color:#006621;font-style:normal}em{font-weight:bold;font-style:normal}ol li{list-style:none}ol,ul,li{margin:0;padding:0}button{margin:0}.g,.C4eCVc{font-size:14px;line-height:20px;text-align:left}#tads a{text-decoration:none}.center_col,#fbtns{padding:1px 10px 0}#fbtns{padding-top:0}.b{font-weight:bold}.xsm{font-size:x-small}.std{font-size:small}.ts{border-collapse:collapse}.ts td{padding:0}.ts.std .r a{color:#1967D2;border-bottom:0}.ts.std .r a:visited{color:#4B11A8;border-bottom:0}.cpbb,.kpbb,.kprb,.kpgb,.kpgrb,.ksb{border-radius:2px;cursor:default;font-family:Roboto,HelveticaNeue,Arial,sans-serif;font-size:11px;font-weight:bold;height:27px;line-height:27px;margin:2px 0;min-width:54px;padding:0 8px;text-align:center;transition:all 0.218s,visibility 0s}.kpbb,.kprb,.kpgb,.kpgrb{color:#fff}.kpbb{background-color:#4d90fe;background-image:linear-gradient(top,#4d90fe,#4787ed);border:1px solid #3079ed}.kpgrb{background-color:#f5f5f5;background-image:linear-gradient(top,#f5f5f5,#f1f1f1);border:1px solid #dcdcdc;color:#555}.ksb{background-color:#f8f8f8;background-image:linear-gradient(top,#f8f8f8,#f1f1f1);border:1px solid #c6c6c6;color:#222}.ksb.mini{box-sizing:content-box;height:17px;line-height:17px;min-width:0}a.ab_button{display:inline-block}.osl{overflow:hidden;color:#70757A}.osl a{white-space:nowrap}.ellip{overflow:hidden;text-overflow:ellipsis;white-space:nowrap}.csb{display:block}.gic{position:relative;overflow:hidden;z-index:0}[data-hveid]{tap-highlight-color:rgba(0,0,0,0)}.rc{position:relative;}.gl:visited{color:#666}.bprBJc{display:flex;align-items:center}.gy3q1e{vertical-align:middle;display:inline-block}.khgTR{border-bottom:1px solid #DFE1E5;display:block;line-height:22px;margin:0px 0 12px;padding:0 0 11px;}.khgTR .f.hJND5c{margin-top:0px;overflow:hidden;white-space:nowrap}.khgTR.QEhTP{border-bottom:none;margin-bottom:0;padding-bottom:0}.khgTR.lWEpfd{border-bottom:none;margin-bottom:0;padding-bottom:0}.uZfOAb{clear:both;}.jtDWfd{margin-left:-10px;margin-right:-10px}.gpeho{margin-left:-10px;margin-right:-10px;padding:12px 0 5px}.tTfzVd{padding-top:9px}.pb0Ufd{border-radius:4px;border:1px solid rgba(0,0,0,0.12);font-size:14px;line-height:16px;margin-left:10px;padding:7px 8px;display:inline-block;text-align:center}.pb0Ufd:last-child{margin-right:24px}.qB8Uve{display:block;line-height:20px;position:relative;white-space:nowrap}.lP8Inb{padding-right:0;white-space:normal}.J6AsYb{left:0;position:absolute;top:0}.mJ9kob{display:inline-block}.sbuwl{color:#202124;overflow:hidden;text-overflow:ellipsis}.P1usbc{display:table;color:#808080;margin-top:16px;}.G1Rrjc{display:table-cell;padding-left:15px;vertical-align:baseline}.i4vd5e{display:table-cell}.VNLkW{display:table-row;vertical-align:top}.h7mcFf{color:#999}.k6DEPe{margin-top:4px}.P1usbc .FUUCsd{color:#202124}.P1usbc .FUUCsd span{color:#70757A}.TXwUJf{color:#3C4043}.PcHvNb{position:absolute}.N3nEGc{background-color:#fff;float:left;overflow:hidden;margin-top:4px;position:relative}.wEQKyf.N3nEGc{float:right;margin:7px 0 5px 12px}.Ixi80c{margin-top:0px}.i0PvJb{background-color:#000}.mWTy7c{border-top-left-radius:2px;bottom:0;font-size:11px;font-weight:bold;padding:1px 3px;position:absolute;right:0;text-align:right;text-decoration:none;background-color:rgba(0,0,0,.7);color:#fff}.bc{}.TbwUpd a.fl{font-size:15px}.TbwUpd.rLwn0d{overflow:hidden;text-overflow:ellipsis}.WjWTQ{color:#3C4043;font-style:italic}.H89pHb{margin-right:6px}.st sup{line-height:0.9}.mOd06 em{font-weight:bold !important}#hdtbSum,a,.g8uwNb,cite{font-family:Roboto,HelveticaNeue,Arial,sans-serif !important;font-weight:inherit}.f>a,.TXwUJf,.TXwUJf a{font-family:Roboto,HelveticaNeue,Arial,sans-serif !important}.kno-ecr-pt{}.kno-ecr-pt{color:#000;font-family:arial,sans-serif-light,sans-serif;display:inline;font-size:30px;font-weight:normal;position:relative;transform-origin:left top;transform-origin:left top;word-wrap:break-word}#pnnext b{font-weight:normal}.fmulti{}.GNlFYb{color:#5f6368}.p2Kmnc{color:#222;font-size:14px;font-weight:normal;tap-highlight-color:rgba(0,0,0,0)}.Seo5Sb{display:inline-block;opacity:0.55;vertical-align:top}a.p2Kmnc:hover .Seo5Sb,a.p2Kmnc:active .Seo5Sb{opacity:1.0}.GNlFYb{margin:40px 0}.TfEe9d{margin-right:10px}.fbar p{display:inline}.fbar a,#fsettl{text-decoration:none;white-space:nowrap}.fbar{margin-left:-27px}.Fx4vi{padding-left:27px;margin:0 !important}.In26Ec{padding:0 !important;margin:0 !important}#fbarcnt{display:block}.smiUbb img{margin-right:4px}.smiUbb a,.M6hT6 #swml a{text-decoration:none}.fmulti{text-align:center}.fmulti #fsr{display:block;float:none}.fmulti #fuser{display:block;float:none}#fuserm{line-height:25px}#fsr{float:right;white-space:nowrap}#fsl{white-space:nowrap}#fsett{background:#fff;border:1px solid #999;bottom:30px;padding:10px 0;position:absolute;box-shadow:0 2px 4px rgba(0,0,0,0.2);box-shadow:0 2px 4px rgba(0,0,0,0.2);text-align:left;z-index:104}#fsett a{display:block;line-height:44px;padding:0 20px;text-decoration:none;white-space:nowrap}.p2Kmnc{padding:8px 16px;margin-right:10px}.B4GxFc{margin-left:135px}#fbar{background:#f2f2f2;border-top:1px solid #e4e4e4;line-height:40px;min-width:980px}.yBWvle{margin-left:135px}.fbar p,.fbar a,#fsettl,#fsett a{color:#5f6368}.fbar a:hover,#fsett a:hover{color:#333}.fbar{font-size:small}#fuser{float:right}.smiUbb{margin-left:135px;line-height:15px;color:#5f6368;}.known_loc{background:#4285f4}.unknown_loc{background:#9e9e9e}.known_loc,.unknown_loc{border-radius:100%;display:inline-block;height:10px;margin:6px 4px 9px 0;vertical-align:middle;width:10px}#Wprf1b{color:#333;font-weight:bold}#swml a{display:inline-block}</style></head><body jsmodel=\" \"><style>html,body{font-family:'Roboto',arial,sans-serif;height:100%}</style><div jsdata=\"ALusFc;;CSZoDk\" jsmodel=\"uIhXXc\"><div><style>.w43NHb{background-color:#fafafa;height:100%;position:absolute;width:100%;display:flex;justify-content:center;flex-direction:column}.qDdeqd{flex:1}.diIKdd{flex:2;text-align:center}.SC3FEd{padding-top:34px;font-size:18px;font-weight:medium;color:rgba(0,0,0,.87)}.oLm9bf{padding-top:28px;vertical-align:middle;font-size:14px;font-weight:medium;color:#2869D3}.oLm9bf a{text-decoration:none;text-transform:uppercase}.oLm9bf a:visited{color:#2869D3}</style><div class=\"w43NHb\"><div class=\"qDdeqd\"></div><div class=\"diIKdd\"><div><img alt=\"\" src=\"data:image/png;base64,iVBORw0KGgoAAAANSUhEUgAAAEcAAABEBAMAAAAhCjWCAAAAFVBMVEVMaXEAAAAAAAAAAAAAAAAAAAAAAACpf3wfAAAAB3RSTlMAFjNMCD8iNAUUbQAAASxJREFUeAHl0jFTgzAYxvEHjJ2p9TpTuHPWPKVz76zOXFOdAdHv/xEEDDUCLxlcPPubMvzv3lzywhWktDaQKMOzEwRP/JbthSilIxam0bXFpAVdO0wK6dJyVB86b7NRgc4/im5evhiS4+Mxst8qs1+t6LMFrumTtXf0KpDSK4eh1z1I7paydR9tIVMXFgVJjZaqNnJkyMLuXC5FIckHAAFJLUWPJLWNuReiFRsArtiIZqIMdg+j34wL7VnNXRwpGdm5sRgFVf+Y5UXuk6UOB0+0Tgwbx7tIjNYpz2w2jNQ7XVk9ESnDgdM4WtDKaGkh0uUtALWs5EjX6KlKiF73cDybqWiDn4JkHCkMqT+/KjqZ0UWGXjlSesVY0StCSB8N+OfFziJJdmgFH3NKAJ9bpvgbi3fnBAAAAABJRU5ErkJggg==\"/></div><div class=\"SC3FEd\">Oops, your browser, device, and/or location is not yet supported.</div><div class=\"oLm9bf\"><a href=\"https://www.google.com\">Go to Google</a></div></div></div></div></div><textarea class=\"csi\" name=\"csi\" style=\"display:none\"></textarea><script nonce=\"g8kikI2E9U3wOj43X+c2yA==\">(function(){var e='vgo-XYb4DYKF0wLBvrOgCA';var sn='web';(function(){var q=function(a){var c=window,d=document;if(!a||\"none\"==a.style.display)return 0;if(d.defaultView&&d.defaultView.getComputedStyle){var b=d.defaultView.getComputedStyle(a);if(b&&(\"hidden\"==b.visibility||\"0px\"==b.height&&\"0px\"==b.width))return 0}if(!a.getBoundingClientRect)return 1;var f=a.getBoundingClientRect();a=f.left+c.pageXOffset;b=f.top+c.pageYOffset;var k=f.width;f=f.height;return 0>=f&&0>=k?0:0>b+f?2:b>=(c.innerHeight||d.documentElement.clientHeight)?3:0>a+k||a>=(c.innerWidth||d.documentElement.clientWidth)?4:1};var r=e,v=sn;function w(a,c,d){a=\"/gen_204?atyp=csi&s=\"+(v||\"web\")+\"&t=\"+a+(\"&lite=1&ei=\"+r+\"&conn=\"+(window.navigator&&window.navigator.connection?window.navigator.connection.type:-1)+c);c=\"&rt=\";for(var b in d)a+=c+b+\".\"+d[b],c=\",\";return a}function x(a){a={prt:a};window.wsrt&&(a.wsrt=window.wsrt);return a}function y(a){window.ping?window.ping(a):(new Image).src=a}\n",
      "(function(){for(var a=+new Date-window.start,c=x(a),d=0,b=0,f=0,k=document.getElementsByTagName(\"img\"),m=\"&imn=\"+k.length+\"&biw=\"+window.innerWidth+\"&bih=\"+window.innerHeight,A=function(h,z){h.onload=function(){b=+new Date-window.start;z&&++n==f&&(d=b,t());h.onload=null}},t=function(){m+=\"&ima=\"+f;c.aft=d;y(w(\"aft\",m,c))},n=0,B=0,g=void 0;g=k[B++];){var l=1==q(g);l&&++f;var u=g.complete&&!g.getAttribute(\"data-deferred\"),p=u&&Number(g.getAttribute(\"data-iml\"))||0;u&&p?(l&&++n,p&&(g=p-window.start,l&&(d=Math.max(d,g)),b=Math.max(b,g))):A(g,l)}d||(d=a);b||(b=d);n==f&&t();window.addEventListener(\"load\",function(){window.setTimeout(function(){c.ol=+new Date-window.start;c.iml=b;var h=window.performance&&window.performance.timing;h&&(c.rqst=h.responseEnd-h.requestStart,c.rspt=h.responseEnd-h.responseStart);y(w(\"all\",m,c))},0)},!1)})();}).call(this);})();</script><script nonce=\"g8kikI2E9U3wOj43X+c2yA==\">google.x(null, function(){(function(){(function(){google.csct={};google.csct.ps='AOvVaw3T2MNmpBSHJDrqmOSWHAMy\\x26ust\\x3d1564433470241619';})();})();(function(){(function(){google.csct.rd=true;})();})();});google.drty&&google.drty();</script></body></html>\n",
      "https://www.google.com/search?q=Data+Scientist+Honolulu,+Hawaii&ibp=htl;jobs#fpstate=tldetail&htidocid=bNuueDIcYnkfbPOvAAAAAA%3D%3D&htivrt=jobs\n"
     ]
    },
    {
     "name": "stdout",
     "output_type": "stream",
     "text": [
      "<!DOCTYPE html>\n",
      "<html><head><meta charset=\"utf-8\"/><meta content=\"/images/branding/googleg/1x/googleg_standard_color_128dp.png\" itemprop=\"image\"/><title>Jobs</title><script nonce=\"VsSYcijAwKi0vKelgW57tQ==\">(function(){window.google={kEI:'vgo-XcDOE4y80wL7saCICQ',authuser:0};google.sn='web';google.kHL='en';google.jsfs='';})();(function(){google.lc=[];google.li=0;google.getEI=function(a){for(var b;a&&(!a.getAttribute||!(b=a.getAttribute(\"eid\")));)a=a.parentNode;return b||google.kEI};google.getLEI=function(a){for(var b=null;a&&(!a.getAttribute||!(b=a.getAttribute(\"leid\")));)a=a.parentNode;return b};google.https=function(){return\"https:\"==window.location.protocol};google.ml=function(){return null};google.time=function(){return(new Date).getTime()};google.log=function(a,b,e,c,g){if(a=google.logUrl(a,b,e,c,g)){b=new Image;var d=google.lc,f=google.li;d[f]=b;b.onerror=b.onload=b.onabort=function(){delete d[f]};google.vel&&google.vel.lu&&google.vel.lu(a);b.src=a;google.li=f+1}};google.logUrl=function(a,b,e,c,g){var d=\"\",f=google.ls||\"\";e||-1!=b.search(\"&ei=\")||(d=\"&ei=\"+google.getEI(c),-1==b.search(\"&lei=\")&&(c=google.getLEI(c))&&(d+=\"&lei=\"+c));c=\"\";!e&&google.cshid&&-1==b.search(\"&cshid=\")&&\"slh\"!=a&&(c=\"&cshid=\"+google.cshid);a=e||\"/\"+(g||\"gen_204\")+\"?atyp=i&ct=\"+a+\"&cad=\"+b+d+f+\"&zx=\"+google.time()+c;/^http:/i.test(a)&&google.https()&&(google.ml(Error(\"a\"),!1,{src:a,glmm:1}),a=\"\");return a};}).call(this);google.f={};(function(){var a=window.performance;window.start=(new Date).getTime();a:{var b=window;if(a){var c=a.timing;if(c){var d=c.navigationStart,e=c.responseStart;if(e>d&&e<=window.start){window.start=e;b.wsrt=e-d;break a}}a.now&&(b.wsrt=Math.floor(a.now()))}}window.google=window.google||{};google.aft=function(f){f.setAttribute(\"data-iml\",+new Date)};}).call(this);(function(){var b=[function(){google.tick&&google.tick(\"load\",\"dcl\")}];google.dclc=function(a){b.length?b.push(a):a()};function c(){for(var a;a=b.shift();)a()}window.addEventListener?(document.addEventListener(\"DOMContentLoaded\",c,!1),window.addEventListener(\"load\",c,!1)):window.attachEvent&&window.attachEvent(\"onload\",c);}).call(this);</script><style>.feGi6e,.RCxLAc{border-top:1px solid #DFE1E5;padding:20px 24px 20px 24px;color:#222;display:block;font-size:15px;font-weight:400;line-height:21px;overflow:hidden;text-overflow:ellipsis;white-space:nowrap}.V5niGc,.kQPfE{font-family:Roboto,HelveticaNeue,Arial,sans-serif;color:#222;border-bottom:1px solid #DFE1E5;display:block;font-size:15px !important;font-weight:400;line-height:21px;padding:20px 24px 20px 24px}.Ea153d{font-size:18px !important}.V5niGc a{color:inherit}.bkWMgd{border-bottom:0}.card-section,.xo6e2b{display:block;margin:0;padding:0px 24px 0px 24px}.card-section~.card-section:not(.rQUFld),.card-section~div>.card-section:not(.rQUFld),.xo6e2b~.xo6e2b:not(.rQUFld){border-top:1px solid #DFE1E5}.V5niGc .m5quV{margin-bottom:-20px}.card-section .x3Vcd{margin-top:-0px}.card-section .FZCAbf{margin-right:-24px}.card-section .m5quV{margin-bottom:-0px}.card-section .Wxuafb{margin-left:-24px}.fidQXb{padding-bottom:0}.card:not(:empty),.mnr-c:not(:empty){background-color:#fff;margin:0 0 16px 0;overflow:hidden;box-shadow:0 1px 6px rgba(32, 33, 36, 0.28);border-radius:8px;}.mnr-c .mnr-c{box-shadow:none}.card .card,.mnr-c .mnr-c{margin-bottom:0 !important}.iUh30{font-size:15px;}.hJND5c,.slp{display:block;margin-bottom:1px}.f,.f a:link{color:#3C4043;}.a,cite,cite a:link,cite a:visited,.cite,.cite:link,#nygTcd>i,.bc a:link{color:#006621;font-style:normal}a.fl:link,.fl a,.flt,a.flt,.gl a:link,a.mblink,.mblink b{color:#1967D2}#resultStats{color:#999;}.osl{margin-top:4px}#lb{z-index:1001;position:absolute;top:-1000px}.WqQeqc{display:inline-block;height:24px;position:relative;width:24px;z-index:0}.WqQeqc span{display:block;background-color:currentColor;height:100%;mask-size:100% 100%;width:100%;}.vk_h{}.vk_c a{text-decoration:none}.vk_gn{color:#3d9400 !important}.vk_rd{color:#dd4b39 !important}.bTuXH{color:#545454 !important}.vk_gy{color:#878787 !important}.vk_lgy{color:#bababa !important}.vk_blgy{border-color:#bababa}.vk_bk{color:#212121 !important}.vk_fl a{color:#878787}.vk_fl a:hover{color:#1967D2}.dDoNo{font-weight:lighter !important;margin-bottom:5px}.dDoNo{font-size:xx-large !important}.dDoNo.vk_long{font-size:20px !important}.vk_h{font-weight:lighter !important}.vk_h{font-size:x-large !important}.vk_sh,.vk_hs,.vk_med{font-weight:lighter !important}.vk_sh{font-size:medium !important}.Uekwlc{font-weight:lighter !important}.Uekwlc{font-size:small !important;}.p13zmc{font-weight:lighter !important}.vk_cdns{font-size:13px !important}.cYvRhe{font-weight:bold !important}body,.g,html,.std,.c h2,h1,#cdr_min,#cdr_max,.cpbb,.kpbb,.kprb,.kpgb,.kpgrb,.ksb{font-family:Roboto,HelveticaNeue,Arial,sans-serif}.dDoNo,.vk_h,.vk_sh,.Uekwlc,.p13zmc{font-family:arial,sans-serif-light,sans-serif}.cYvRhe,.di8g3{font-family:arial,sans-serif-medium,sans-serif}.vk_c,.vk_cxp,#rhs .fIcnad{border:none;box-shadow:0px 1px 4px 0px rgba(0,0,0,0.2);box-shadow:0px 1px 4px 0px rgba(0,0,0,0.2)}#rhs .fIcnad{border:none;margin-left:2px}.vk_c,.vk_cxp{position:relative}.vkc_np{margin-left:-20px;margin-right:-20px}.WIDPrb,.ts .WIDPrb{padding-left:20px}.iiFzhd,.ts .iiFzhd{padding-right:20px}.vk_pt,.ts .vk_pt{padding-top:20px}.QiLuMc{padding-bottom:20px}.vk_c,.vk_cxp{margin-left:-8px;margin-right:-35px}.vk_c,.vk_cxp,.vk_ic{padding:20px 20px 24px 20px}.vk_c .vk_c,.vk_c .vk_cxp{border-radius:0;box-shadow:none;background-color:transparent;border:0;box-shadow:none;margin:0;padding:0;position:static}.vk_cxp{padding-top:30px;padding-bottom:34px}.vk_c_cxp{margin-top:10px;margin-bottom:10px}.vk_gbb{border-bottom:1px solid #eee}.vk_gbr{border-right:1px solid #eee}.vk_gbt{border-top:1px solid #eee}.vk_cf{margin:0 -20px 0 -20px;padding:16px 20px 16px 20px}.vk_cf a,.vk_cf a:link,a.vk_cf,a.vk_cf:link{color:#878787}.vk_cf a:hover,a.vk_cf:hover{color:#1967D2}.vk_slic{display:inline-block;margin-top:-3px;margin-right:16px;position:relative;height:24px;width:24px;vertical-align:middle}.vk_sli,.vk_slih{border:none;position:absolute;top:0;left:0;height:24px;width:24px}a:hover .vk_sli,.vk_slih{display:none}a:hover .vk_slih,.vk_sli{display:inline-block}.vk_spc{height:16px;width:100%}.vk_ra{transform:rotate(90deg)}.vk_arc{border-top:1px solid #DFE1E5;cursor:pointer;height:0px;margin-bottom:-23px;overflow:hidden;padding:20px 0;text-align:center}.vk_ard{top:-11px}.vk_aru{bottom:-6px}.vk_ard,.vk_aru{background-color:#e5e5e5;margin-left:auto;margin-right:auto;position:relative}.vk_ard,.vk_aru{height:6px;width:64px}.vk_ard:after,.vk_ard:before,.vk_aru:after,.vk_aru:before{content:' ';height:0;left:0;position:absolute;width:0}.vk_ard:after,.vk_ard:before,.vk_aru:after,.vk_aru:before{border-left:32px solid rgba(229,229,229,0);border-right:32px solid rgba(229,229,229,0)}.vk_ard:before{border-top:16px solid #e5e5e5;top:6px}.vk_aru:before{border-bottom:16px solid #e5e5e5;bottom:6px}.vk_ard:after{top:0}.vk_ard:after{border-top:16px solid #fff}.vk_aru:after{bottom:0}.vk_aru:after{border-bottom:16px solid #fff}.vk_bk.vk_ard,.vk_bk.vk_aru{background-color:#212121}.vk_bk.vk_ard:before{border-top-color:#212121}.vk_bk.vk_aru:before{border-bottom-color:#212121}.di8g3{font-size:11px !important;padding:6px 8px}#center_col .di8g3{margin:0 -35px 0 -8px;padding:6px 20px 0}#rhs .di8g3{margin-left:2px;padding-bottom:5px;padding-top:5px}.di8g3,.di8g3 a{color:#878787 !important;text-decoration:none}.di8g3 a:hover{text-decoration:underline}.hntNk.vk_c{padding-top:24px;padding-bottom:20px}.hntNk .dDoNo{margin-bottom:0;word-wrap:break-word}.hntNk .vk_gy{margin-bottom:5px}.pVFdhc{background-color:#ebebeb;height:1px}.vk_tbl{border-collapse:collapse}.vk_tbl td{padding:0}.xpdclps,.xpdxpnd{overflow:hidden}.xpdclps,.xpdxpnd{transition:max-height 0.3s}.xpdxpnd,.xpdopen .xpdclps,.xpdopen .xpdxpnd.xpdnoxpnd{max-height:0}.xpdopen .xpdxpnd{max-height:none}.xpdopen .xpdbox .xpdxpnd,.xpdopen .xpdbox.xpdopen .xpdclps{max-height:0}.xpdopen .xpdbox.xpdopen .xpdxpnd,.xpdopen .xpdbox .xpdclps{max-height:none}.xpdclose .k5nfEc,.xpdopen .f9jNFb{display:none}.focused{}.appbar{}.qs-l{}@-webkit-keyframes qs-timer {0%{}}body{margin:0;background:#fff;font-family:Roboto,HelveticaNeue,Arial,sans-serif;color:#3C4043;}.st{color:#3C4043}#cnt{overflow-x:hidden;margin-top:-10px;padding-top:10px;}.g,body,html,.std,h1{font-size:small;font-family:Roboto,HelveticaNeue,Arial,sans-serif}h3,#rso,#topstuff,.r{font-size:medium}body.qs-l{overflow:hidden}.c h2{color:#666}a,.w,a.feGi6e{color:#1967D2;text-decoration:none;-webkit-tap-highlight-color:rgba(0,0,0,.1)}.mblink:visited,a:visited{color:#4B11A8}.nA3Vyd,.qE5Dec{border-top-left-radius:8px;border-top-right-radius:8px}.eJhUR,.qE5Dec{border-bottom-left-radius:8px;border-bottom-right-radius:8px}.zbA8Me{font-weight:bold;text-transform:uppercase;font-size:12px;line-height:12px;letter-spacing:0.3px}.s .st em,.st.s.std em{color:#3C4043}h3{font-weight:normal;margin:0;padding:0}.r{font-size:medium;font-weight:inherit;margin:0}h3.r{line-height:}#rso h3,#topstuff h3{font-size:}cite{color:#006621;font-style:normal}em{font-weight:bold;font-style:normal}ol li{list-style:none}ol,ul,li{margin:0;padding:0}button{margin:0}.g,.C4eCVc{font-size:14px;line-height:20px;text-align:left}#tads a{text-decoration:none}.center_col,#fbtns{padding:1px 10px 0}#fbtns{padding-top:0}.b{font-weight:bold}.xsm{font-size:x-small}.std{font-size:small}.ts{border-collapse:collapse}.ts td{padding:0}.ts.std .r a{color:#1967D2;border-bottom:0}.ts.std .r a:visited{color:#4B11A8;border-bottom:0}.cpbb,.kpbb,.kprb,.kpgb,.kpgrb,.ksb{border-radius:2px;cursor:default;font-family:Roboto,HelveticaNeue,Arial,sans-serif;font-size:11px;font-weight:bold;height:27px;line-height:27px;margin:2px 0;min-width:54px;padding:0 8px;text-align:center;transition:all 0.218s,visibility 0s}.kpbb,.kprb,.kpgb,.kpgrb{color:#fff}.kpbb{background-color:#4d90fe;background-image:linear-gradient(top,#4d90fe,#4787ed);border:1px solid #3079ed}.kpgrb{background-color:#f5f5f5;background-image:linear-gradient(top,#f5f5f5,#f1f1f1);border:1px solid #dcdcdc;color:#555}.ksb{background-color:#f8f8f8;background-image:linear-gradient(top,#f8f8f8,#f1f1f1);border:1px solid #c6c6c6;color:#222}.ksb.mini{box-sizing:content-box;height:17px;line-height:17px;min-width:0}a.ab_button{display:inline-block}.osl{overflow:hidden;color:#70757A}.osl a{white-space:nowrap}.ellip{overflow:hidden;text-overflow:ellipsis;white-space:nowrap}.csb{display:block}.gic{position:relative;overflow:hidden;z-index:0}[data-hveid]{tap-highlight-color:rgba(0,0,0,0)}.rc{position:relative;}.gl:visited{color:#666}.bprBJc{display:flex;align-items:center}.gy3q1e{vertical-align:middle;display:inline-block}.khgTR{border-bottom:1px solid #DFE1E5;display:block;line-height:22px;margin:0px 0 12px;padding:0 0 11px;}.khgTR .f.hJND5c{margin-top:0px;overflow:hidden;white-space:nowrap}.khgTR.QEhTP{border-bottom:none;margin-bottom:0;padding-bottom:0}.khgTR.lWEpfd{border-bottom:none;margin-bottom:0;padding-bottom:0}.uZfOAb{clear:both;}.jtDWfd{margin-left:-10px;margin-right:-10px}.gpeho{margin-left:-10px;margin-right:-10px;padding:12px 0 5px}.tTfzVd{padding-top:9px}.pb0Ufd{border-radius:4px;border:1px solid rgba(0,0,0,0.12);font-size:14px;line-height:16px;margin-left:10px;padding:7px 8px;display:inline-block;text-align:center}.pb0Ufd:last-child{margin-right:24px}.qB8Uve{display:block;line-height:20px;position:relative;white-space:nowrap}.lP8Inb{padding-right:0;white-space:normal}.J6AsYb{left:0;position:absolute;top:0}.mJ9kob{display:inline-block}.sbuwl{color:#202124;overflow:hidden;text-overflow:ellipsis}.P1usbc{display:table;color:#808080;margin-top:16px;}.G1Rrjc{display:table-cell;padding-left:15px;vertical-align:baseline}.i4vd5e{display:table-cell}.VNLkW{display:table-row;vertical-align:top}.h7mcFf{color:#999}.k6DEPe{margin-top:4px}.P1usbc .FUUCsd{color:#202124}.P1usbc .FUUCsd span{color:#70757A}.TXwUJf{color:#3C4043}.PcHvNb{position:absolute}.N3nEGc{background-color:#fff;float:left;overflow:hidden;margin-top:4px;position:relative}.wEQKyf.N3nEGc{float:right;margin:7px 0 5px 12px}.Ixi80c{margin-top:0px}.i0PvJb{background-color:#000}.mWTy7c{border-top-left-radius:2px;bottom:0;font-size:11px;font-weight:bold;padding:1px 3px;position:absolute;right:0;text-align:right;text-decoration:none;background-color:rgba(0,0,0,.7);color:#fff}.bc{}.TbwUpd a.fl{font-size:15px}.TbwUpd.rLwn0d{overflow:hidden;text-overflow:ellipsis}.WjWTQ{color:#3C4043;font-style:italic}.H89pHb{margin-right:6px}.st sup{line-height:0.9}.mOd06 em{font-weight:bold !important}#hdtbSum,a,.g8uwNb,cite{font-family:Roboto,HelveticaNeue,Arial,sans-serif !important;font-weight:inherit}.f>a,.TXwUJf,.TXwUJf a{font-family:Roboto,HelveticaNeue,Arial,sans-serif !important}.kno-ecr-pt{}.kno-ecr-pt{color:#000;font-family:arial,sans-serif-light,sans-serif;display:inline;font-size:30px;font-weight:normal;position:relative;transform-origin:left top;transform-origin:left top;word-wrap:break-word}#pnnext b{font-weight:normal}.fmulti{}.GNlFYb{color:#5f6368}.p2Kmnc{color:#222;font-size:14px;font-weight:normal;tap-highlight-color:rgba(0,0,0,0)}.Seo5Sb{display:inline-block;opacity:0.55;vertical-align:top}a.p2Kmnc:hover .Seo5Sb,a.p2Kmnc:active .Seo5Sb{opacity:1.0}.GNlFYb{margin:40px 0}.TfEe9d{margin-right:10px}.fbar p{display:inline}.fbar a,#fsettl{text-decoration:none;white-space:nowrap}.fbar{margin-left:-27px}.Fx4vi{padding-left:27px;margin:0 !important}.In26Ec{padding:0 !important;margin:0 !important}#fbarcnt{display:block}.smiUbb img{margin-right:4px}.smiUbb a,.M6hT6 #swml a{text-decoration:none}.fmulti{text-align:center}.fmulti #fsr{display:block;float:none}.fmulti #fuser{display:block;float:none}#fuserm{line-height:25px}#fsr{float:right;white-space:nowrap}#fsl{white-space:nowrap}#fsett{background:#fff;border:1px solid #999;bottom:30px;padding:10px 0;position:absolute;box-shadow:0 2px 4px rgba(0,0,0,0.2);box-shadow:0 2px 4px rgba(0,0,0,0.2);text-align:left;z-index:104}#fsett a{display:block;line-height:44px;padding:0 20px;text-decoration:none;white-space:nowrap}.p2Kmnc{padding:8px 16px;margin-right:10px}.B4GxFc{margin-left:135px}#fbar{background:#f2f2f2;border-top:1px solid #e4e4e4;line-height:40px;min-width:980px}.yBWvle{margin-left:135px}.fbar p,.fbar a,#fsettl,#fsett a{color:#5f6368}.fbar a:hover,#fsett a:hover{color:#333}.fbar{font-size:small}#fuser{float:right}.smiUbb{margin-left:135px;line-height:15px;color:#5f6368;}.known_loc{background:#4285f4}.unknown_loc{background:#9e9e9e}.known_loc,.unknown_loc{border-radius:100%;display:inline-block;height:10px;margin:6px 4px 9px 0;vertical-align:middle;width:10px}#Wprf1b{color:#333;font-weight:bold}#swml a{display:inline-block}</style></head><body jsmodel=\" \"><style>html,body{font-family:'Roboto',arial,sans-serif;height:100%}</style><div jsdata=\"ALusFc;;CSZ5ok\" jsmodel=\"uIhXXc\"><div><style>.w43NHb{background-color:#fafafa;height:100%;position:absolute;width:100%;display:flex;justify-content:center;flex-direction:column}.qDdeqd{flex:1}.diIKdd{flex:2;text-align:center}.SC3FEd{padding-top:34px;font-size:18px;font-weight:medium;color:rgba(0,0,0,.87)}.oLm9bf{padding-top:28px;vertical-align:middle;font-size:14px;font-weight:medium;color:#2869D3}.oLm9bf a{text-decoration:none;text-transform:uppercase}.oLm9bf a:visited{color:#2869D3}</style><div class=\"w43NHb\"><div class=\"qDdeqd\"></div><div class=\"diIKdd\"><div><img alt=\"\" src=\"data:image/png;base64,iVBORw0KGgoAAAANSUhEUgAAAEcAAABEBAMAAAAhCjWCAAAAFVBMVEVMaXEAAAAAAAAAAAAAAAAAAAAAAACpf3wfAAAAB3RSTlMAFjNMCD8iNAUUbQAAASxJREFUeAHl0jFTgzAYxvEHjJ2p9TpTuHPWPKVz76zOXFOdAdHv/xEEDDUCLxlcPPubMvzv3lzywhWktDaQKMOzEwRP/JbthSilIxam0bXFpAVdO0wK6dJyVB86b7NRgc4/im5evhiS4+Mxst8qs1+t6LMFrumTtXf0KpDSK4eh1z1I7paydR9tIVMXFgVJjZaqNnJkyMLuXC5FIckHAAFJLUWPJLWNuReiFRsArtiIZqIMdg+j34wL7VnNXRwpGdm5sRgFVf+Y5UXuk6UOB0+0Tgwbx7tIjNYpz2w2jNQ7XVk9ESnDgdM4WtDKaGkh0uUtALWs5EjX6KlKiF73cDybqWiDn4JkHCkMqT+/KjqZ0UWGXjlSesVY0StCSB8N+OfFziJJdmgFH3NKAJ9bpvgbi3fnBAAAAABJRU5ErkJggg==\"/></div><div class=\"SC3FEd\">Oops, your browser, device, and/or location is not yet supported.</div><div class=\"oLm9bf\"><a href=\"https://www.google.com\">Go to Google</a></div></div></div></div></div><textarea class=\"csi\" name=\"csi\" style=\"display:none\"></textarea><script nonce=\"VsSYcijAwKi0vKelgW57tQ==\">(function(){var e='vgo-XcDOE4y80wL7saCICQ';var sn='web';(function(){var q=function(a){var c=window,d=document;if(!a||\"none\"==a.style.display)return 0;if(d.defaultView&&d.defaultView.getComputedStyle){var b=d.defaultView.getComputedStyle(a);if(b&&(\"hidden\"==b.visibility||\"0px\"==b.height&&\"0px\"==b.width))return 0}if(!a.getBoundingClientRect)return 1;var f=a.getBoundingClientRect();a=f.left+c.pageXOffset;b=f.top+c.pageYOffset;var k=f.width;f=f.height;return 0>=f&&0>=k?0:0>b+f?2:b>=(c.innerHeight||d.documentElement.clientHeight)?3:0>a+k||a>=(c.innerWidth||d.documentElement.clientWidth)?4:1};var r=e,v=sn;function w(a,c,d){a=\"/gen_204?atyp=csi&s=\"+(v||\"web\")+\"&t=\"+a+(\"&lite=1&ei=\"+r+\"&conn=\"+(window.navigator&&window.navigator.connection?window.navigator.connection.type:-1)+c);c=\"&rt=\";for(var b in d)a+=c+b+\".\"+d[b],c=\",\";return a}function x(a){a={prt:a};window.wsrt&&(a.wsrt=window.wsrt);return a}function y(a){window.ping?window.ping(a):(new Image).src=a}\n",
      "(function(){for(var a=+new Date-window.start,c=x(a),d=0,b=0,f=0,k=document.getElementsByTagName(\"img\"),m=\"&imn=\"+k.length+\"&biw=\"+window.innerWidth+\"&bih=\"+window.innerHeight,A=function(h,z){h.onload=function(){b=+new Date-window.start;z&&++n==f&&(d=b,t());h.onload=null}},t=function(){m+=\"&ima=\"+f;c.aft=d;y(w(\"aft\",m,c))},n=0,B=0,g=void 0;g=k[B++];){var l=1==q(g);l&&++f;var u=g.complete&&!g.getAttribute(\"data-deferred\"),p=u&&Number(g.getAttribute(\"data-iml\"))||0;u&&p?(l&&++n,p&&(g=p-window.start,l&&(d=Math.max(d,g)),b=Math.max(b,g))):A(g,l)}d||(d=a);b||(b=d);n==f&&t();window.addEventListener(\"load\",function(){window.setTimeout(function(){c.ol=+new Date-window.start;c.iml=b;var h=window.performance&&window.performance.timing;h&&(c.rqst=h.responseEnd-h.requestStart,c.rspt=h.responseEnd-h.responseStart);y(w(\"all\",m,c))},0)},!1)})();}).call(this);})();</script><script nonce=\"VsSYcijAwKi0vKelgW57tQ==\">google.x(null, function(){(function(){(function(){google.csct={};google.csct.ps='AOvVaw3at47-RlFGrsuaMO04z46A\\x26ust\\x3d1564433470331011';})();})();(function(){(function(){google.csct.rd=true;})();})();});google.drty&&google.drty();</script></body></html>\n",
      "https://www.google.com/search?q=Data+Analyst+Honolulu,+Hawaii&ibp=htl;jobs#fpstate=tldetail&htidocid=bNuueDIcYnkfbPOvAAAAAA%3D%3D&htivrt=jobs\n",
      "<!DOCTYPE html>\n",
      "<html><head><meta charset=\"utf-8\"/><meta content=\"/images/branding/googleg/1x/googleg_standard_color_128dp.png\" itemprop=\"image\"/><title>Jobs</title><script nonce=\"P188s22JHOogGonW7d9zhQ==\">(function(){window.google={kEI:'vgo-Xd_qGMTC0wLQo5pY',authuser:0};google.sn='web';google.kHL='en';google.jsfs='';})();(function(){google.lc=[];google.li=0;google.getEI=function(a){for(var b;a&&(!a.getAttribute||!(b=a.getAttribute(\"eid\")));)a=a.parentNode;return b||google.kEI};google.getLEI=function(a){for(var b=null;a&&(!a.getAttribute||!(b=a.getAttribute(\"leid\")));)a=a.parentNode;return b};google.https=function(){return\"https:\"==window.location.protocol};google.ml=function(){return null};google.time=function(){return(new Date).getTime()};google.log=function(a,b,e,c,g){if(a=google.logUrl(a,b,e,c,g)){b=new Image;var d=google.lc,f=google.li;d[f]=b;b.onerror=b.onload=b.onabort=function(){delete d[f]};google.vel&&google.vel.lu&&google.vel.lu(a);b.src=a;google.li=f+1}};google.logUrl=function(a,b,e,c,g){var d=\"\",f=google.ls||\"\";e||-1!=b.search(\"&ei=\")||(d=\"&ei=\"+google.getEI(c),-1==b.search(\"&lei=\")&&(c=google.getLEI(c))&&(d+=\"&lei=\"+c));c=\"\";!e&&google.cshid&&-1==b.search(\"&cshid=\")&&\"slh\"!=a&&(c=\"&cshid=\"+google.cshid);a=e||\"/\"+(g||\"gen_204\")+\"?atyp=i&ct=\"+a+\"&cad=\"+b+d+f+\"&zx=\"+google.time()+c;/^http:/i.test(a)&&google.https()&&(google.ml(Error(\"a\"),!1,{src:a,glmm:1}),a=\"\");return a};}).call(this);google.f={};(function(){var a=window.performance;window.start=(new Date).getTime();a:{var b=window;if(a){var c=a.timing;if(c){var d=c.navigationStart,e=c.responseStart;if(e>d&&e<=window.start){window.start=e;b.wsrt=e-d;break a}}a.now&&(b.wsrt=Math.floor(a.now()))}}window.google=window.google||{};google.aft=function(f){f.setAttribute(\"data-iml\",+new Date)};}).call(this);(function(){var b=[function(){google.tick&&google.tick(\"load\",\"dcl\")}];google.dclc=function(a){b.length?b.push(a):a()};function c(){for(var a;a=b.shift();)a()}window.addEventListener?(document.addEventListener(\"DOMContentLoaded\",c,!1),window.addEventListener(\"load\",c,!1)):window.attachEvent&&window.attachEvent(\"onload\",c);}).call(this);</script><style>.feGi6e,.RCxLAc{border-top:1px solid #DFE1E5;padding:20px 24px 20px 24px;color:#222;display:block;font-size:15px;font-weight:400;line-height:21px;overflow:hidden;text-overflow:ellipsis;white-space:nowrap}.V5niGc,.kQPfE{font-family:Roboto,HelveticaNeue,Arial,sans-serif;color:#222;border-bottom:1px solid #DFE1E5;display:block;font-size:15px !important;font-weight:400;line-height:21px;padding:20px 24px 20px 24px}.Ea153d{font-size:18px !important}.V5niGc a{color:inherit}.bkWMgd{border-bottom:0}.card-section,.xo6e2b{display:block;margin:0;padding:0px 24px 0px 24px}.card-section~.card-section:not(.rQUFld),.card-section~div>.card-section:not(.rQUFld),.xo6e2b~.xo6e2b:not(.rQUFld){border-top:1px solid #DFE1E5}.V5niGc .m5quV{margin-bottom:-20px}.card-section .x3Vcd{margin-top:-0px}.card-section .FZCAbf{margin-right:-24px}.card-section .m5quV{margin-bottom:-0px}.card-section .Wxuafb{margin-left:-24px}.fidQXb{padding-bottom:0}.card:not(:empty),.mnr-c:not(:empty){background-color:#fff;margin:0 0 16px 0;overflow:hidden;box-shadow:0 1px 6px rgba(32, 33, 36, 0.28);border-radius:8px;}.mnr-c .mnr-c{box-shadow:none}.card .card,.mnr-c .mnr-c{margin-bottom:0 !important}.iUh30{font-size:15px;}.hJND5c,.slp{display:block;margin-bottom:1px}.f,.f a:link{color:#3C4043;}.a,cite,cite a:link,cite a:visited,.cite,.cite:link,#nygTcd>i,.bc a:link{color:#006621;font-style:normal}a.fl:link,.fl a,.flt,a.flt,.gl a:link,a.mblink,.mblink b{color:#1967D2}#resultStats{color:#999;}.osl{margin-top:4px}#lb{z-index:1001;position:absolute;top:-1000px}.WqQeqc{display:inline-block;height:24px;position:relative;width:24px;z-index:0}.WqQeqc span{display:block;background-color:currentColor;height:100%;mask-size:100% 100%;width:100%;}.vk_h{}.vk_c a{text-decoration:none}.vk_gn{color:#3d9400 !important}.vk_rd{color:#dd4b39 !important}.bTuXH{color:#545454 !important}.vk_gy{color:#878787 !important}.vk_lgy{color:#bababa !important}.vk_blgy{border-color:#bababa}.vk_bk{color:#212121 !important}.vk_fl a{color:#878787}.vk_fl a:hover{color:#1967D2}.dDoNo{font-weight:lighter !important;margin-bottom:5px}.dDoNo{font-size:xx-large !important}.dDoNo.vk_long{font-size:20px !important}.vk_h{font-weight:lighter !important}.vk_h{font-size:x-large !important}.vk_sh,.vk_hs,.vk_med{font-weight:lighter !important}.vk_sh{font-size:medium !important}.Uekwlc{font-weight:lighter !important}.Uekwlc{font-size:small !important;}.p13zmc{font-weight:lighter !important}.vk_cdns{font-size:13px !important}.cYvRhe{font-weight:bold !important}body,.g,html,.std,.c h2,h1,#cdr_min,#cdr_max,.cpbb,.kpbb,.kprb,.kpgb,.kpgrb,.ksb{font-family:Roboto,HelveticaNeue,Arial,sans-serif}.dDoNo,.vk_h,.vk_sh,.Uekwlc,.p13zmc{font-family:arial,sans-serif-light,sans-serif}.cYvRhe,.di8g3{font-family:arial,sans-serif-medium,sans-serif}.vk_c,.vk_cxp,#rhs .fIcnad{border:none;box-shadow:0px 1px 4px 0px rgba(0,0,0,0.2);box-shadow:0px 1px 4px 0px rgba(0,0,0,0.2)}#rhs .fIcnad{border:none;margin-left:2px}.vk_c,.vk_cxp{position:relative}.vkc_np{margin-left:-20px;margin-right:-20px}.WIDPrb,.ts .WIDPrb{padding-left:20px}.iiFzhd,.ts .iiFzhd{padding-right:20px}.vk_pt,.ts .vk_pt{padding-top:20px}.QiLuMc{padding-bottom:20px}.vk_c,.vk_cxp{margin-left:-8px;margin-right:-35px}.vk_c,.vk_cxp,.vk_ic{padding:20px 20px 24px 20px}.vk_c .vk_c,.vk_c .vk_cxp{border-radius:0;box-shadow:none;background-color:transparent;border:0;box-shadow:none;margin:0;padding:0;position:static}.vk_cxp{padding-top:30px;padding-bottom:34px}.vk_c_cxp{margin-top:10px;margin-bottom:10px}.vk_gbb{border-bottom:1px solid #eee}.vk_gbr{border-right:1px solid #eee}.vk_gbt{border-top:1px solid #eee}.vk_cf{margin:0 -20px 0 -20px;padding:16px 20px 16px 20px}.vk_cf a,.vk_cf a:link,a.vk_cf,a.vk_cf:link{color:#878787}.vk_cf a:hover,a.vk_cf:hover{color:#1967D2}.vk_slic{display:inline-block;margin-top:-3px;margin-right:16px;position:relative;height:24px;width:24px;vertical-align:middle}.vk_sli,.vk_slih{border:none;position:absolute;top:0;left:0;height:24px;width:24px}a:hover .vk_sli,.vk_slih{display:none}a:hover .vk_slih,.vk_sli{display:inline-block}.vk_spc{height:16px;width:100%}.vk_ra{transform:rotate(90deg)}.vk_arc{border-top:1px solid #DFE1E5;cursor:pointer;height:0px;margin-bottom:-23px;overflow:hidden;padding:20px 0;text-align:center}.vk_ard{top:-11px}.vk_aru{bottom:-6px}.vk_ard,.vk_aru{background-color:#e5e5e5;margin-left:auto;margin-right:auto;position:relative}.vk_ard,.vk_aru{height:6px;width:64px}.vk_ard:after,.vk_ard:before,.vk_aru:after,.vk_aru:before{content:' ';height:0;left:0;position:absolute;width:0}.vk_ard:after,.vk_ard:before,.vk_aru:after,.vk_aru:before{border-left:32px solid rgba(229,229,229,0);border-right:32px solid rgba(229,229,229,0)}.vk_ard:before{border-top:16px solid #e5e5e5;top:6px}.vk_aru:before{border-bottom:16px solid #e5e5e5;bottom:6px}.vk_ard:after{top:0}.vk_ard:after{border-top:16px solid #fff}.vk_aru:after{bottom:0}.vk_aru:after{border-bottom:16px solid #fff}.vk_bk.vk_ard,.vk_bk.vk_aru{background-color:#212121}.vk_bk.vk_ard:before{border-top-color:#212121}.vk_bk.vk_aru:before{border-bottom-color:#212121}.di8g3{font-size:11px !important;padding:6px 8px}#center_col .di8g3{margin:0 -35px 0 -8px;padding:6px 20px 0}#rhs .di8g3{margin-left:2px;padding-bottom:5px;padding-top:5px}.di8g3,.di8g3 a{color:#878787 !important;text-decoration:none}.di8g3 a:hover{text-decoration:underline}.hntNk.vk_c{padding-top:24px;padding-bottom:20px}.hntNk .dDoNo{margin-bottom:0;word-wrap:break-word}.hntNk .vk_gy{margin-bottom:5px}.pVFdhc{background-color:#ebebeb;height:1px}.vk_tbl{border-collapse:collapse}.vk_tbl td{padding:0}.xpdclps,.xpdxpnd{overflow:hidden}.xpdclps,.xpdxpnd{transition:max-height 0.3s}.xpdxpnd,.xpdopen .xpdclps,.xpdopen .xpdxpnd.xpdnoxpnd{max-height:0}.xpdopen .xpdxpnd{max-height:none}.xpdopen .xpdbox .xpdxpnd,.xpdopen .xpdbox.xpdopen .xpdclps{max-height:0}.xpdopen .xpdbox.xpdopen .xpdxpnd,.xpdopen .xpdbox .xpdclps{max-height:none}.xpdclose .k5nfEc,.xpdopen .f9jNFb{display:none}.focused{}.appbar{}.qs-l{}@-webkit-keyframes qs-timer {0%{}}body{margin:0;background:#fff;font-family:Roboto,HelveticaNeue,Arial,sans-serif;color:#3C4043;}.st{color:#3C4043}#cnt{overflow-x:hidden;margin-top:-10px;padding-top:10px;}.g,body,html,.std,h1{font-size:small;font-family:Roboto,HelveticaNeue,Arial,sans-serif}h3,#rso,#topstuff,.r{font-size:medium}body.qs-l{overflow:hidden}.c h2{color:#666}a,.w,a.feGi6e{color:#1967D2;text-decoration:none;-webkit-tap-highlight-color:rgba(0,0,0,.1)}.mblink:visited,a:visited{color:#4B11A8}.nA3Vyd,.qE5Dec{border-top-left-radius:8px;border-top-right-radius:8px}.eJhUR,.qE5Dec{border-bottom-left-radius:8px;border-bottom-right-radius:8px}.zbA8Me{font-weight:bold;text-transform:uppercase;font-size:12px;line-height:12px;letter-spacing:0.3px}.s .st em,.st.s.std em{color:#3C4043}h3{font-weight:normal;margin:0;padding:0}.r{font-size:medium;font-weight:inherit;margin:0}h3.r{line-height:}#rso h3,#topstuff h3{font-size:}cite{color:#006621;font-style:normal}em{font-weight:bold;font-style:normal}ol li{list-style:none}ol,ul,li{margin:0;padding:0}button{margin:0}.g,.C4eCVc{font-size:14px;line-height:20px;text-align:left}#tads a{text-decoration:none}.center_col,#fbtns{padding:1px 10px 0}#fbtns{padding-top:0}.b{font-weight:bold}.xsm{font-size:x-small}.std{font-size:small}.ts{border-collapse:collapse}.ts td{padding:0}.ts.std .r a{color:#1967D2;border-bottom:0}.ts.std .r a:visited{color:#4B11A8;border-bottom:0}.cpbb,.kpbb,.kprb,.kpgb,.kpgrb,.ksb{border-radius:2px;cursor:default;font-family:Roboto,HelveticaNeue,Arial,sans-serif;font-size:11px;font-weight:bold;height:27px;line-height:27px;margin:2px 0;min-width:54px;padding:0 8px;text-align:center;transition:all 0.218s,visibility 0s}.kpbb,.kprb,.kpgb,.kpgrb{color:#fff}.kpbb{background-color:#4d90fe;background-image:linear-gradient(top,#4d90fe,#4787ed);border:1px solid #3079ed}.kpgrb{background-color:#f5f5f5;background-image:linear-gradient(top,#f5f5f5,#f1f1f1);border:1px solid #dcdcdc;color:#555}.ksb{background-color:#f8f8f8;background-image:linear-gradient(top,#f8f8f8,#f1f1f1);border:1px solid #c6c6c6;color:#222}.ksb.mini{box-sizing:content-box;height:17px;line-height:17px;min-width:0}a.ab_button{display:inline-block}.osl{overflow:hidden;color:#70757A}.osl a{white-space:nowrap}.ellip{overflow:hidden;text-overflow:ellipsis;white-space:nowrap}.csb{display:block}.gic{position:relative;overflow:hidden;z-index:0}[data-hveid]{tap-highlight-color:rgba(0,0,0,0)}.rc{position:relative;}.gl:visited{color:#666}.bprBJc{display:flex;align-items:center}.gy3q1e{vertical-align:middle;display:inline-block}.khgTR{border-bottom:1px solid #DFE1E5;display:block;line-height:22px;margin:0px 0 12px;padding:0 0 11px;}.khgTR .f.hJND5c{margin-top:0px;overflow:hidden;white-space:nowrap}.khgTR.QEhTP{border-bottom:none;margin-bottom:0;padding-bottom:0}.khgTR.lWEpfd{border-bottom:none;margin-bottom:0;padding-bottom:0}.uZfOAb{clear:both;}.jtDWfd{margin-left:-10px;margin-right:-10px}.gpeho{margin-left:-10px;margin-right:-10px;padding:12px 0 5px}.tTfzVd{padding-top:9px}.pb0Ufd{border-radius:4px;border:1px solid rgba(0,0,0,0.12);font-size:14px;line-height:16px;margin-left:10px;padding:7px 8px;display:inline-block;text-align:center}.pb0Ufd:last-child{margin-right:24px}.qB8Uve{display:block;line-height:20px;position:relative;white-space:nowrap}.lP8Inb{padding-right:0;white-space:normal}.J6AsYb{left:0;position:absolute;top:0}.mJ9kob{display:inline-block}.sbuwl{color:#202124;overflow:hidden;text-overflow:ellipsis}.P1usbc{display:table;color:#808080;margin-top:16px;}.G1Rrjc{display:table-cell;padding-left:15px;vertical-align:baseline}.i4vd5e{display:table-cell}.VNLkW{display:table-row;vertical-align:top}.h7mcFf{color:#999}.k6DEPe{margin-top:4px}.P1usbc .FUUCsd{color:#202124}.P1usbc .FUUCsd span{color:#70757A}.TXwUJf{color:#3C4043}.PcHvNb{position:absolute}.N3nEGc{background-color:#fff;float:left;overflow:hidden;margin-top:4px;position:relative}.wEQKyf.N3nEGc{float:right;margin:7px 0 5px 12px}.Ixi80c{margin-top:0px}.i0PvJb{background-color:#000}.mWTy7c{border-top-left-radius:2px;bottom:0;font-size:11px;font-weight:bold;padding:1px 3px;position:absolute;right:0;text-align:right;text-decoration:none;background-color:rgba(0,0,0,.7);color:#fff}.bc{}.TbwUpd a.fl{font-size:15px}.TbwUpd.rLwn0d{overflow:hidden;text-overflow:ellipsis}.WjWTQ{color:#3C4043;font-style:italic}.H89pHb{margin-right:6px}.st sup{line-height:0.9}.mOd06 em{font-weight:bold !important}#hdtbSum,a,.g8uwNb,cite{font-family:Roboto,HelveticaNeue,Arial,sans-serif !important;font-weight:inherit}.f>a,.TXwUJf,.TXwUJf a{font-family:Roboto,HelveticaNeue,Arial,sans-serif !important}.kno-ecr-pt{}.kno-ecr-pt{color:#000;font-family:arial,sans-serif-light,sans-serif;display:inline;font-size:30px;font-weight:normal;position:relative;transform-origin:left top;transform-origin:left top;word-wrap:break-word}#pnnext b{font-weight:normal}.fmulti{}.GNlFYb{color:#5f6368}.p2Kmnc{color:#222;font-size:14px;font-weight:normal;tap-highlight-color:rgba(0,0,0,0)}.Seo5Sb{display:inline-block;opacity:0.55;vertical-align:top}a.p2Kmnc:hover .Seo5Sb,a.p2Kmnc:active .Seo5Sb{opacity:1.0}.GNlFYb{margin:40px 0}.TfEe9d{margin-right:10px}.fbar p{display:inline}.fbar a,#fsettl{text-decoration:none;white-space:nowrap}.fbar{margin-left:-27px}.Fx4vi{padding-left:27px;margin:0 !important}.In26Ec{padding:0 !important;margin:0 !important}#fbarcnt{display:block}.smiUbb img{margin-right:4px}.smiUbb a,.M6hT6 #swml a{text-decoration:none}.fmulti{text-align:center}.fmulti #fsr{display:block;float:none}.fmulti #fuser{display:block;float:none}#fuserm{line-height:25px}#fsr{float:right;white-space:nowrap}#fsl{white-space:nowrap}#fsett{background:#fff;border:1px solid #999;bottom:30px;padding:10px 0;position:absolute;box-shadow:0 2px 4px rgba(0,0,0,0.2);box-shadow:0 2px 4px rgba(0,0,0,0.2);text-align:left;z-index:104}#fsett a{display:block;line-height:44px;padding:0 20px;text-decoration:none;white-space:nowrap}.p2Kmnc{padding:8px 16px;margin-right:10px}.B4GxFc{margin-left:135px}#fbar{background:#f2f2f2;border-top:1px solid #e4e4e4;line-height:40px;min-width:980px}.yBWvle{margin-left:135px}.fbar p,.fbar a,#fsettl,#fsett a{color:#5f6368}.fbar a:hover,#fsett a:hover{color:#333}.fbar{font-size:small}#fuser{float:right}.smiUbb{margin-left:135px;line-height:15px;color:#5f6368;}.known_loc{background:#4285f4}.unknown_loc{background:#9e9e9e}.known_loc,.unknown_loc{border-radius:100%;display:inline-block;height:10px;margin:6px 4px 9px 0;vertical-align:middle;width:10px}#Wprf1b{color:#333;font-weight:bold}#swml a{display:inline-block}</style></head><body jsmodel=\" \"><style>html,body{font-family:'Roboto',arial,sans-serif;height:100%}</style><div jsdata=\"ALusFc;;CSaLaE\" jsmodel=\"uIhXXc\"><div><style>.w43NHb{background-color:#fafafa;height:100%;position:absolute;width:100%;display:flex;justify-content:center;flex-direction:column}.qDdeqd{flex:1}.diIKdd{flex:2;text-align:center}.SC3FEd{padding-top:34px;font-size:18px;font-weight:medium;color:rgba(0,0,0,.87)}.oLm9bf{padding-top:28px;vertical-align:middle;font-size:14px;font-weight:medium;color:#2869D3}.oLm9bf a{text-decoration:none;text-transform:uppercase}.oLm9bf a:visited{color:#2869D3}</style><div class=\"w43NHb\"><div class=\"qDdeqd\"></div><div class=\"diIKdd\"><div><img alt=\"\" src=\"data:image/png;base64,iVBORw0KGgoAAAANSUhEUgAAAEcAAABEBAMAAAAhCjWCAAAAFVBMVEVMaXEAAAAAAAAAAAAAAAAAAAAAAACpf3wfAAAAB3RSTlMAFjNMCD8iNAUUbQAAASxJREFUeAHl0jFTgzAYxvEHjJ2p9TpTuHPWPKVz76zOXFOdAdHv/xEEDDUCLxlcPPubMvzv3lzywhWktDaQKMOzEwRP/JbthSilIxam0bXFpAVdO0wK6dJyVB86b7NRgc4/im5evhiS4+Mxst8qs1+t6LMFrumTtXf0KpDSK4eh1z1I7paydR9tIVMXFgVJjZaqNnJkyMLuXC5FIckHAAFJLUWPJLWNuReiFRsArtiIZqIMdg+j34wL7VnNXRwpGdm5sRgFVf+Y5UXuk6UOB0+0Tgwbx7tIjNYpz2w2jNQ7XVk9ESnDgdM4WtDKaGkh0uUtALWs5EjX6KlKiF73cDybqWiDn4JkHCkMqT+/KjqZ0UWGXjlSesVY0StCSB8N+OfFziJJdmgFH3NKAJ9bpvgbi3fnBAAAAABJRU5ErkJggg==\"/></div><div class=\"SC3FEd\">Oops, your browser, device, and/or location is not yet supported.</div><div class=\"oLm9bf\"><a href=\"https://www.google.com\">Go to Google</a></div></div></div></div></div><textarea class=\"csi\" name=\"csi\" style=\"display:none\"></textarea><script nonce=\"P188s22JHOogGonW7d9zhQ==\">(function(){var e='vgo-Xd_qGMTC0wLQo5pY';var sn='web';(function(){var q=function(a){var c=window,d=document;if(!a||\"none\"==a.style.display)return 0;if(d.defaultView&&d.defaultView.getComputedStyle){var b=d.defaultView.getComputedStyle(a);if(b&&(\"hidden\"==b.visibility||\"0px\"==b.height&&\"0px\"==b.width))return 0}if(!a.getBoundingClientRect)return 1;var f=a.getBoundingClientRect();a=f.left+c.pageXOffset;b=f.top+c.pageYOffset;var k=f.width;f=f.height;return 0>=f&&0>=k?0:0>b+f?2:b>=(c.innerHeight||d.documentElement.clientHeight)?3:0>a+k||a>=(c.innerWidth||d.documentElement.clientWidth)?4:1};var r=e,v=sn;function w(a,c,d){a=\"/gen_204?atyp=csi&s=\"+(v||\"web\")+\"&t=\"+a+(\"&lite=1&ei=\"+r+\"&conn=\"+(window.navigator&&window.navigator.connection?window.navigator.connection.type:-1)+c);c=\"&rt=\";for(var b in d)a+=c+b+\".\"+d[b],c=\",\";return a}function x(a){a={prt:a};window.wsrt&&(a.wsrt=window.wsrt);return a}function y(a){window.ping?window.ping(a):(new Image).src=a}\n",
      "(function(){for(var a=+new Date-window.start,c=x(a),d=0,b=0,f=0,k=document.getElementsByTagName(\"img\"),m=\"&imn=\"+k.length+\"&biw=\"+window.innerWidth+\"&bih=\"+window.innerHeight,A=function(h,z){h.onload=function(){b=+new Date-window.start;z&&++n==f&&(d=b,t());h.onload=null}},t=function(){m+=\"&ima=\"+f;c.aft=d;y(w(\"aft\",m,c))},n=0,B=0,g=void 0;g=k[B++];){var l=1==q(g);l&&++f;var u=g.complete&&!g.getAttribute(\"data-deferred\"),p=u&&Number(g.getAttribute(\"data-iml\"))||0;u&&p?(l&&++n,p&&(g=p-window.start,l&&(d=Math.max(d,g)),b=Math.max(b,g))):A(g,l)}d||(d=a);b||(b=d);n==f&&t();window.addEventListener(\"load\",function(){window.setTimeout(function(){c.ol=+new Date-window.start;c.iml=b;var h=window.performance&&window.performance.timing;h&&(c.rqst=h.responseEnd-h.requestStart,c.rspt=h.responseEnd-h.responseStart);y(w(\"all\",m,c))},0)},!1)})();}).call(this);})();</script><script nonce=\"P188s22JHOogGonW7d9zhQ==\">google.x(null, function(){(function(){(function(){google.csct={};google.csct.ps='AOvVaw1OWi3AByw8u9ZUNjPT3aTv\\x26ust\\x3d1564433470422391';})();})();(function(){(function(){google.csct.rd=true;})();})();});google.drty&&google.drty();</script></body></html>\n",
      "https://www.google.com/search?q=Data+Scientist+New+York,+New+York&ibp=htl;jobs#fpstate=tldetail&htidocid=bNuueDIcYnkfbPOvAAAAAA%3D%3D&htivrt=jobs\n",
      "<!DOCTYPE html>\n",
      "<html><head><meta charset=\"utf-8\"/><meta content=\"/images/branding/googleg/1x/googleg_standard_color_128dp.png\" itemprop=\"image\"/><title>Jobs</title><script nonce=\"K+hClF+MhF2HuR2gZV4NZQ==\">(function(){window.google={kEI:'vgo-XY--HoK28AO62TU',authuser:0};google.sn='web';google.kHL='en';google.jsfs='';})();(function(){google.lc=[];google.li=0;google.getEI=function(a){for(var b;a&&(!a.getAttribute||!(b=a.getAttribute(\"eid\")));)a=a.parentNode;return b||google.kEI};google.getLEI=function(a){for(var b=null;a&&(!a.getAttribute||!(b=a.getAttribute(\"leid\")));)a=a.parentNode;return b};google.https=function(){return\"https:\"==window.location.protocol};google.ml=function(){return null};google.time=function(){return(new Date).getTime()};google.log=function(a,b,e,c,g){if(a=google.logUrl(a,b,e,c,g)){b=new Image;var d=google.lc,f=google.li;d[f]=b;b.onerror=b.onload=b.onabort=function(){delete d[f]};google.vel&&google.vel.lu&&google.vel.lu(a);b.src=a;google.li=f+1}};google.logUrl=function(a,b,e,c,g){var d=\"\",f=google.ls||\"\";e||-1!=b.search(\"&ei=\")||(d=\"&ei=\"+google.getEI(c),-1==b.search(\"&lei=\")&&(c=google.getLEI(c))&&(d+=\"&lei=\"+c));c=\"\";!e&&google.cshid&&-1==b.search(\"&cshid=\")&&\"slh\"!=a&&(c=\"&cshid=\"+google.cshid);a=e||\"/\"+(g||\"gen_204\")+\"?atyp=i&ct=\"+a+\"&cad=\"+b+d+f+\"&zx=\"+google.time()+c;/^http:/i.test(a)&&google.https()&&(google.ml(Error(\"a\"),!1,{src:a,glmm:1}),a=\"\");return a};}).call(this);google.f={};(function(){var a=window.performance;window.start=(new Date).getTime();a:{var b=window;if(a){var c=a.timing;if(c){var d=c.navigationStart,e=c.responseStart;if(e>d&&e<=window.start){window.start=e;b.wsrt=e-d;break a}}a.now&&(b.wsrt=Math.floor(a.now()))}}window.google=window.google||{};google.aft=function(f){f.setAttribute(\"data-iml\",+new Date)};}).call(this);(function(){var b=[function(){google.tick&&google.tick(\"load\",\"dcl\")}];google.dclc=function(a){b.length?b.push(a):a()};function c(){for(var a;a=b.shift();)a()}window.addEventListener?(document.addEventListener(\"DOMContentLoaded\",c,!1),window.addEventListener(\"load\",c,!1)):window.attachEvent&&window.attachEvent(\"onload\",c);}).call(this);</script><style>.feGi6e,.RCxLAc{border-top:1px solid #DFE1E5;padding:20px 24px 20px 24px;color:#222;display:block;font-size:15px;font-weight:400;line-height:21px;overflow:hidden;text-overflow:ellipsis;white-space:nowrap}.V5niGc,.kQPfE{font-family:Roboto,HelveticaNeue,Arial,sans-serif;color:#222;border-bottom:1px solid #DFE1E5;display:block;font-size:15px !important;font-weight:400;line-height:21px;padding:20px 24px 20px 24px}.Ea153d{font-size:18px !important}.V5niGc a{color:inherit}.bkWMgd{border-bottom:0}.card-section,.xo6e2b{display:block;margin:0;padding:0px 24px 0px 24px}.card-section~.card-section:not(.rQUFld),.card-section~div>.card-section:not(.rQUFld),.xo6e2b~.xo6e2b:not(.rQUFld){border-top:1px solid #DFE1E5}.V5niGc .m5quV{margin-bottom:-20px}.card-section .x3Vcd{margin-top:-0px}.card-section .FZCAbf{margin-right:-24px}.card-section .m5quV{margin-bottom:-0px}.card-section .Wxuafb{margin-left:-24px}.fidQXb{padding-bottom:0}.card:not(:empty),.mnr-c:not(:empty){background-color:#fff;margin:0 0 16px 0;overflow:hidden;box-shadow:0 1px 6px rgba(32, 33, 36, 0.28);border-radius:8px;}.mnr-c .mnr-c{box-shadow:none}.card .card,.mnr-c .mnr-c{margin-bottom:0 !important}.iUh30{font-size:15px;}.hJND5c,.slp{display:block;margin-bottom:1px}.f,.f a:link{color:#3C4043;}.a,cite,cite a:link,cite a:visited,.cite,.cite:link,#nygTcd>i,.bc a:link{color:#006621;font-style:normal}a.fl:link,.fl a,.flt,a.flt,.gl a:link,a.mblink,.mblink b{color:#1967D2}#resultStats{color:#999;}.osl{margin-top:4px}#lb{z-index:1001;position:absolute;top:-1000px}.WqQeqc{display:inline-block;height:24px;position:relative;width:24px;z-index:0}.WqQeqc span{display:block;background-color:currentColor;height:100%;mask-size:100% 100%;width:100%;}.vk_h{}.vk_c a{text-decoration:none}.vk_gn{color:#3d9400 !important}.vk_rd{color:#dd4b39 !important}.bTuXH{color:#545454 !important}.vk_gy{color:#878787 !important}.vk_lgy{color:#bababa !important}.vk_blgy{border-color:#bababa}.vk_bk{color:#212121 !important}.vk_fl a{color:#878787}.vk_fl a:hover{color:#1967D2}.dDoNo{font-weight:lighter !important;margin-bottom:5px}.dDoNo{font-size:xx-large !important}.dDoNo.vk_long{font-size:20px !important}.vk_h{font-weight:lighter !important}.vk_h{font-size:x-large !important}.vk_sh,.vk_hs,.vk_med{font-weight:lighter !important}.vk_sh{font-size:medium !important}.Uekwlc{font-weight:lighter !important}.Uekwlc{font-size:small !important;}.p13zmc{font-weight:lighter !important}.vk_cdns{font-size:13px !important}.cYvRhe{font-weight:bold !important}body,.g,html,.std,.c h2,h1,#cdr_min,#cdr_max,.cpbb,.kpbb,.kprb,.kpgb,.kpgrb,.ksb{font-family:Roboto,HelveticaNeue,Arial,sans-serif}.dDoNo,.vk_h,.vk_sh,.Uekwlc,.p13zmc{font-family:arial,sans-serif-light,sans-serif}.cYvRhe,.di8g3{font-family:arial,sans-serif-medium,sans-serif}.vk_c,.vk_cxp,#rhs .fIcnad{border:none;box-shadow:0px 1px 4px 0px rgba(0,0,0,0.2);box-shadow:0px 1px 4px 0px rgba(0,0,0,0.2)}#rhs .fIcnad{border:none;margin-left:2px}.vk_c,.vk_cxp{position:relative}.vkc_np{margin-left:-20px;margin-right:-20px}.WIDPrb,.ts .WIDPrb{padding-left:20px}.iiFzhd,.ts .iiFzhd{padding-right:20px}.vk_pt,.ts .vk_pt{padding-top:20px}.QiLuMc{padding-bottom:20px}.vk_c,.vk_cxp{margin-left:-8px;margin-right:-35px}.vk_c,.vk_cxp,.vk_ic{padding:20px 20px 24px 20px}.vk_c .vk_c,.vk_c .vk_cxp{border-radius:0;box-shadow:none;background-color:transparent;border:0;box-shadow:none;margin:0;padding:0;position:static}.vk_cxp{padding-top:30px;padding-bottom:34px}.vk_c_cxp{margin-top:10px;margin-bottom:10px}.vk_gbb{border-bottom:1px solid #eee}.vk_gbr{border-right:1px solid #eee}.vk_gbt{border-top:1px solid #eee}.vk_cf{margin:0 -20px 0 -20px;padding:16px 20px 16px 20px}.vk_cf a,.vk_cf a:link,a.vk_cf,a.vk_cf:link{color:#878787}.vk_cf a:hover,a.vk_cf:hover{color:#1967D2}.vk_slic{display:inline-block;margin-top:-3px;margin-right:16px;position:relative;height:24px;width:24px;vertical-align:middle}.vk_sli,.vk_slih{border:none;position:absolute;top:0;left:0;height:24px;width:24px}a:hover .vk_sli,.vk_slih{display:none}a:hover .vk_slih,.vk_sli{display:inline-block}.vk_spc{height:16px;width:100%}.vk_ra{transform:rotate(90deg)}.vk_arc{border-top:1px solid #DFE1E5;cursor:pointer;height:0px;margin-bottom:-23px;overflow:hidden;padding:20px 0;text-align:center}.vk_ard{top:-11px}.vk_aru{bottom:-6px}.vk_ard,.vk_aru{background-color:#e5e5e5;margin-left:auto;margin-right:auto;position:relative}.vk_ard,.vk_aru{height:6px;width:64px}.vk_ard:after,.vk_ard:before,.vk_aru:after,.vk_aru:before{content:' ';height:0;left:0;position:absolute;width:0}.vk_ard:after,.vk_ard:before,.vk_aru:after,.vk_aru:before{border-left:32px solid rgba(229,229,229,0);border-right:32px solid rgba(229,229,229,0)}.vk_ard:before{border-top:16px solid #e5e5e5;top:6px}.vk_aru:before{border-bottom:16px solid #e5e5e5;bottom:6px}.vk_ard:after{top:0}.vk_ard:after{border-top:16px solid #fff}.vk_aru:after{bottom:0}.vk_aru:after{border-bottom:16px solid #fff}.vk_bk.vk_ard,.vk_bk.vk_aru{background-color:#212121}.vk_bk.vk_ard:before{border-top-color:#212121}.vk_bk.vk_aru:before{border-bottom-color:#212121}.di8g3{font-size:11px !important;padding:6px 8px}#center_col .di8g3{margin:0 -35px 0 -8px;padding:6px 20px 0}#rhs .di8g3{margin-left:2px;padding-bottom:5px;padding-top:5px}.di8g3,.di8g3 a{color:#878787 !important;text-decoration:none}.di8g3 a:hover{text-decoration:underline}.hntNk.vk_c{padding-top:24px;padding-bottom:20px}.hntNk .dDoNo{margin-bottom:0;word-wrap:break-word}.hntNk .vk_gy{margin-bottom:5px}.pVFdhc{background-color:#ebebeb;height:1px}.vk_tbl{border-collapse:collapse}.vk_tbl td{padding:0}.xpdclps,.xpdxpnd{overflow:hidden}.xpdclps,.xpdxpnd{transition:max-height 0.3s}.xpdxpnd,.xpdopen .xpdclps,.xpdopen .xpdxpnd.xpdnoxpnd{max-height:0}.xpdopen .xpdxpnd{max-height:none}.xpdopen .xpdbox .xpdxpnd,.xpdopen .xpdbox.xpdopen .xpdclps{max-height:0}.xpdopen .xpdbox.xpdopen .xpdxpnd,.xpdopen .xpdbox .xpdclps{max-height:none}.xpdclose .k5nfEc,.xpdopen .f9jNFb{display:none}.focused{}.appbar{}.qs-l{}@-webkit-keyframes qs-timer {0%{}}body{margin:0;background:#fff;font-family:Roboto,HelveticaNeue,Arial,sans-serif;color:#3C4043;}.st{color:#3C4043}#cnt{overflow-x:hidden;margin-top:-10px;padding-top:10px;}.g,body,html,.std,h1{font-size:small;font-family:Roboto,HelveticaNeue,Arial,sans-serif}h3,#rso,#topstuff,.r{font-size:medium}body.qs-l{overflow:hidden}.c h2{color:#666}a,.w,a.feGi6e{color:#1967D2;text-decoration:none;-webkit-tap-highlight-color:rgba(0,0,0,.1)}.mblink:visited,a:visited{color:#4B11A8}.nA3Vyd,.qE5Dec{border-top-left-radius:8px;border-top-right-radius:8px}.eJhUR,.qE5Dec{border-bottom-left-radius:8px;border-bottom-right-radius:8px}.zbA8Me{font-weight:bold;text-transform:uppercase;font-size:12px;line-height:12px;letter-spacing:0.3px}.s .st em,.st.s.std em{color:#3C4043}h3{font-weight:normal;margin:0;padding:0}.r{font-size:medium;font-weight:inherit;margin:0}h3.r{line-height:}#rso h3,#topstuff h3{font-size:}cite{color:#006621;font-style:normal}em{font-weight:bold;font-style:normal}ol li{list-style:none}ol,ul,li{margin:0;padding:0}button{margin:0}.g,.C4eCVc{font-size:14px;line-height:20px;text-align:left}#tads a{text-decoration:none}.center_col,#fbtns{padding:1px 10px 0}#fbtns{padding-top:0}.b{font-weight:bold}.xsm{font-size:x-small}.std{font-size:small}.ts{border-collapse:collapse}.ts td{padding:0}.ts.std .r a{color:#1967D2;border-bottom:0}.ts.std .r a:visited{color:#4B11A8;border-bottom:0}.cpbb,.kpbb,.kprb,.kpgb,.kpgrb,.ksb{border-radius:2px;cursor:default;font-family:Roboto,HelveticaNeue,Arial,sans-serif;font-size:11px;font-weight:bold;height:27px;line-height:27px;margin:2px 0;min-width:54px;padding:0 8px;text-align:center;transition:all 0.218s,visibility 0s}.kpbb,.kprb,.kpgb,.kpgrb{color:#fff}.kpbb{background-color:#4d90fe;background-image:linear-gradient(top,#4d90fe,#4787ed);border:1px solid #3079ed}.kpgrb{background-color:#f5f5f5;background-image:linear-gradient(top,#f5f5f5,#f1f1f1);border:1px solid #dcdcdc;color:#555}.ksb{background-color:#f8f8f8;background-image:linear-gradient(top,#f8f8f8,#f1f1f1);border:1px solid #c6c6c6;color:#222}.ksb.mini{box-sizing:content-box;height:17px;line-height:17px;min-width:0}a.ab_button{display:inline-block}.osl{overflow:hidden;color:#70757A}.osl a{white-space:nowrap}.ellip{overflow:hidden;text-overflow:ellipsis;white-space:nowrap}.csb{display:block}.gic{position:relative;overflow:hidden;z-index:0}[data-hveid]{tap-highlight-color:rgba(0,0,0,0)}.rc{position:relative;}.gl:visited{color:#666}.bprBJc{display:flex;align-items:center}.gy3q1e{vertical-align:middle;display:inline-block}.khgTR{border-bottom:1px solid #DFE1E5;display:block;line-height:22px;margin:0px 0 12px;padding:0 0 11px;}.khgTR .f.hJND5c{margin-top:0px;overflow:hidden;white-space:nowrap}.khgTR.QEhTP{border-bottom:none;margin-bottom:0;padding-bottom:0}.khgTR.lWEpfd{border-bottom:none;margin-bottom:0;padding-bottom:0}.uZfOAb{clear:both;}.jtDWfd{margin-left:-10px;margin-right:-10px}.gpeho{margin-left:-10px;margin-right:-10px;padding:12px 0 5px}.tTfzVd{padding-top:9px}.pb0Ufd{border-radius:4px;border:1px solid rgba(0,0,0,0.12);font-size:14px;line-height:16px;margin-left:10px;padding:7px 8px;display:inline-block;text-align:center}.pb0Ufd:last-child{margin-right:24px}.qB8Uve{display:block;line-height:20px;position:relative;white-space:nowrap}.lP8Inb{padding-right:0;white-space:normal}.J6AsYb{left:0;position:absolute;top:0}.mJ9kob{display:inline-block}.sbuwl{color:#202124;overflow:hidden;text-overflow:ellipsis}.P1usbc{display:table;color:#808080;margin-top:16px;}.G1Rrjc{display:table-cell;padding-left:15px;vertical-align:baseline}.i4vd5e{display:table-cell}.VNLkW{display:table-row;vertical-align:top}.h7mcFf{color:#999}.k6DEPe{margin-top:4px}.P1usbc .FUUCsd{color:#202124}.P1usbc .FUUCsd span{color:#70757A}.TXwUJf{color:#3C4043}.PcHvNb{position:absolute}.N3nEGc{background-color:#fff;float:left;overflow:hidden;margin-top:4px;position:relative}.wEQKyf.N3nEGc{float:right;margin:7px 0 5px 12px}.Ixi80c{margin-top:0px}.i0PvJb{background-color:#000}.mWTy7c{border-top-left-radius:2px;bottom:0;font-size:11px;font-weight:bold;padding:1px 3px;position:absolute;right:0;text-align:right;text-decoration:none;background-color:rgba(0,0,0,.7);color:#fff}.bc{}.TbwUpd a.fl{font-size:15px}.TbwUpd.rLwn0d{overflow:hidden;text-overflow:ellipsis}.WjWTQ{color:#3C4043;font-style:italic}.H89pHb{margin-right:6px}.st sup{line-height:0.9}.mOd06 em{font-weight:bold !important}#hdtbSum,a,.g8uwNb,cite{font-family:Roboto,HelveticaNeue,Arial,sans-serif !important;font-weight:inherit}.f>a,.TXwUJf,.TXwUJf a{font-family:Roboto,HelveticaNeue,Arial,sans-serif !important}.kno-ecr-pt{}.kno-ecr-pt{color:#000;font-family:arial,sans-serif-light,sans-serif;display:inline;font-size:30px;font-weight:normal;position:relative;transform-origin:left top;transform-origin:left top;word-wrap:break-word}#pnnext b{font-weight:normal}.fmulti{}.GNlFYb{color:#5f6368}.p2Kmnc{color:#222;font-size:14px;font-weight:normal;tap-highlight-color:rgba(0,0,0,0)}.Seo5Sb{display:inline-block;opacity:0.55;vertical-align:top}a.p2Kmnc:hover .Seo5Sb,a.p2Kmnc:active .Seo5Sb{opacity:1.0}.GNlFYb{margin:40px 0}.TfEe9d{margin-right:10px}.fbar p{display:inline}.fbar a,#fsettl{text-decoration:none;white-space:nowrap}.fbar{margin-left:-27px}.Fx4vi{padding-left:27px;margin:0 !important}.In26Ec{padding:0 !important;margin:0 !important}#fbarcnt{display:block}.smiUbb img{margin-right:4px}.smiUbb a,.M6hT6 #swml a{text-decoration:none}.fmulti{text-align:center}.fmulti #fsr{display:block;float:none}.fmulti #fuser{display:block;float:none}#fuserm{line-height:25px}#fsr{float:right;white-space:nowrap}#fsl{white-space:nowrap}#fsett{background:#fff;border:1px solid #999;bottom:30px;padding:10px 0;position:absolute;box-shadow:0 2px 4px rgba(0,0,0,0.2);box-shadow:0 2px 4px rgba(0,0,0,0.2);text-align:left;z-index:104}#fsett a{display:block;line-height:44px;padding:0 20px;text-decoration:none;white-space:nowrap}.p2Kmnc{padding:8px 16px;margin-right:10px}.B4GxFc{margin-left:135px}#fbar{background:#f2f2f2;border-top:1px solid #e4e4e4;line-height:40px;min-width:980px}.yBWvle{margin-left:135px}.fbar p,.fbar a,#fsettl,#fsett a{color:#5f6368}.fbar a:hover,#fsett a:hover{color:#333}.fbar{font-size:small}#fuser{float:right}.smiUbb{margin-left:135px;line-height:15px;color:#5f6368;}.known_loc{background:#4285f4}.unknown_loc{background:#9e9e9e}.known_loc,.unknown_loc{border-radius:100%;display:inline-block;height:10px;margin:6px 4px 9px 0;vertical-align:middle;width:10px}#Wprf1b{color:#333;font-weight:bold}#swml a{display:inline-block}</style></head><body jsmodel=\" \"><style>html,body{font-family:'Roboto',arial,sans-serif;height:100%}</style><div jsdata=\"ALusFc;;CSacmE\" jsmodel=\"uIhXXc\"><div><style>.w43NHb{background-color:#fafafa;height:100%;position:absolute;width:100%;display:flex;justify-content:center;flex-direction:column}.qDdeqd{flex:1}.diIKdd{flex:2;text-align:center}.SC3FEd{padding-top:34px;font-size:18px;font-weight:medium;color:rgba(0,0,0,.87)}.oLm9bf{padding-top:28px;vertical-align:middle;font-size:14px;font-weight:medium;color:#2869D3}.oLm9bf a{text-decoration:none;text-transform:uppercase}.oLm9bf a:visited{color:#2869D3}</style><div class=\"w43NHb\"><div class=\"qDdeqd\"></div><div class=\"diIKdd\"><div><img alt=\"\" src=\"data:image/png;base64,iVBORw0KGgoAAAANSUhEUgAAAEcAAABEBAMAAAAhCjWCAAAAFVBMVEVMaXEAAAAAAAAAAAAAAAAAAAAAAACpf3wfAAAAB3RSTlMAFjNMCD8iNAUUbQAAASxJREFUeAHl0jFTgzAYxvEHjJ2p9TpTuHPWPKVz76zOXFOdAdHv/xEEDDUCLxlcPPubMvzv3lzywhWktDaQKMOzEwRP/JbthSilIxam0bXFpAVdO0wK6dJyVB86b7NRgc4/im5evhiS4+Mxst8qs1+t6LMFrumTtXf0KpDSK4eh1z1I7paydR9tIVMXFgVJjZaqNnJkyMLuXC5FIckHAAFJLUWPJLWNuReiFRsArtiIZqIMdg+j34wL7VnNXRwpGdm5sRgFVf+Y5UXuk6UOB0+0Tgwbx7tIjNYpz2w2jNQ7XVk9ESnDgdM4WtDKaGkh0uUtALWs5EjX6KlKiF73cDybqWiDn4JkHCkMqT+/KjqZ0UWGXjlSesVY0StCSB8N+OfFziJJdmgFH3NKAJ9bpvgbi3fnBAAAAABJRU5ErkJggg==\"/></div><div class=\"SC3FEd\">Oops, your browser, device, and/or location is not yet supported.</div><div class=\"oLm9bf\"><a href=\"https://www.google.com\">Go to Google</a></div></div></div></div></div><textarea class=\"csi\" name=\"csi\" style=\"display:none\"></textarea><script nonce=\"K+hClF+MhF2HuR2gZV4NZQ==\">(function(){var e='vgo-XY--HoK28AO62TU';var sn='web';(function(){var q=function(a){var c=window,d=document;if(!a||\"none\"==a.style.display)return 0;if(d.defaultView&&d.defaultView.getComputedStyle){var b=d.defaultView.getComputedStyle(a);if(b&&(\"hidden\"==b.visibility||\"0px\"==b.height&&\"0px\"==b.width))return 0}if(!a.getBoundingClientRect)return 1;var f=a.getBoundingClientRect();a=f.left+c.pageXOffset;b=f.top+c.pageYOffset;var k=f.width;f=f.height;return 0>=f&&0>=k?0:0>b+f?2:b>=(c.innerHeight||d.documentElement.clientHeight)?3:0>a+k||a>=(c.innerWidth||d.documentElement.clientWidth)?4:1};var r=e,v=sn;function w(a,c,d){a=\"/gen_204?atyp=csi&s=\"+(v||\"web\")+\"&t=\"+a+(\"&lite=1&ei=\"+r+\"&conn=\"+(window.navigator&&window.navigator.connection?window.navigator.connection.type:-1)+c);c=\"&rt=\";for(var b in d)a+=c+b+\".\"+d[b],c=\",\";return a}function x(a){a={prt:a};window.wsrt&&(a.wsrt=window.wsrt);return a}function y(a){window.ping?window.ping(a):(new Image).src=a}\n",
      "(function(){for(var a=+new Date-window.start,c=x(a),d=0,b=0,f=0,k=document.getElementsByTagName(\"img\"),m=\"&imn=\"+k.length+\"&biw=\"+window.innerWidth+\"&bih=\"+window.innerHeight,A=function(h,z){h.onload=function(){b=+new Date-window.start;z&&++n==f&&(d=b,t());h.onload=null}},t=function(){m+=\"&ima=\"+f;c.aft=d;y(w(\"aft\",m,c))},n=0,B=0,g=void 0;g=k[B++];){var l=1==q(g);l&&++f;var u=g.complete&&!g.getAttribute(\"data-deferred\"),p=u&&Number(g.getAttribute(\"data-iml\"))||0;u&&p?(l&&++n,p&&(g=p-window.start,l&&(d=Math.max(d,g)),b=Math.max(b,g))):A(g,l)}d||(d=a);b||(b=d);n==f&&t();window.addEventListener(\"load\",function(){window.setTimeout(function(){c.ol=+new Date-window.start;c.iml=b;var h=window.performance&&window.performance.timing;h&&(c.rqst=h.responseEnd-h.requestStart,c.rspt=h.responseEnd-h.responseStart);y(w(\"all\",m,c))},0)},!1)})();}).call(this);})();</script><script nonce=\"K+hClF+MhF2HuR2gZV4NZQ==\">google.x(null, function(){(function(){(function(){google.csct={};google.csct.ps='AOvVaw1iqOtLw5h5fe9qr0D-NQv8\\x26ust\\x3d1564433470510169';})();})();(function(){(function(){google.csct.rd=true;})();})();});google.drty&&google.drty();</script></body></html>\n",
      "https://www.google.com/search?q=Data+Analyst+New+York,+New+York&ibp=htl;jobs#fpstate=tldetail&htidocid=bNuueDIcYnkfbPOvAAAAAA%3D%3D&htivrt=jobs\n"
     ]
    },
    {
     "name": "stdout",
     "output_type": "stream",
     "text": [
      "<!DOCTYPE html>\n",
      "<html><head><meta charset=\"utf-8\"/><meta content=\"/images/branding/googleg/1x/googleg_standard_color_128dp.png\" itemprop=\"image\"/><title>Jobs</title><script nonce=\"3SKLjaOFsgCGxVSMRmM2cw==\">(function(){window.google={kEI:'vgo-XeLzI-fh0gKyzriADw',authuser:0};google.sn='web';google.kHL='en';google.jsfs='';})();(function(){google.lc=[];google.li=0;google.getEI=function(a){for(var b;a&&(!a.getAttribute||!(b=a.getAttribute(\"eid\")));)a=a.parentNode;return b||google.kEI};google.getLEI=function(a){for(var b=null;a&&(!a.getAttribute||!(b=a.getAttribute(\"leid\")));)a=a.parentNode;return b};google.https=function(){return\"https:\"==window.location.protocol};google.ml=function(){return null};google.time=function(){return(new Date).getTime()};google.log=function(a,b,e,c,g){if(a=google.logUrl(a,b,e,c,g)){b=new Image;var d=google.lc,f=google.li;d[f]=b;b.onerror=b.onload=b.onabort=function(){delete d[f]};google.vel&&google.vel.lu&&google.vel.lu(a);b.src=a;google.li=f+1}};google.logUrl=function(a,b,e,c,g){var d=\"\",f=google.ls||\"\";e||-1!=b.search(\"&ei=\")||(d=\"&ei=\"+google.getEI(c),-1==b.search(\"&lei=\")&&(c=google.getLEI(c))&&(d+=\"&lei=\"+c));c=\"\";!e&&google.cshid&&-1==b.search(\"&cshid=\")&&\"slh\"!=a&&(c=\"&cshid=\"+google.cshid);a=e||\"/\"+(g||\"gen_204\")+\"?atyp=i&ct=\"+a+\"&cad=\"+b+d+f+\"&zx=\"+google.time()+c;/^http:/i.test(a)&&google.https()&&(google.ml(Error(\"a\"),!1,{src:a,glmm:1}),a=\"\");return a};}).call(this);google.f={};(function(){var a=window.performance;window.start=(new Date).getTime();a:{var b=window;if(a){var c=a.timing;if(c){var d=c.navigationStart,e=c.responseStart;if(e>d&&e<=window.start){window.start=e;b.wsrt=e-d;break a}}a.now&&(b.wsrt=Math.floor(a.now()))}}window.google=window.google||{};google.aft=function(f){f.setAttribute(\"data-iml\",+new Date)};}).call(this);(function(){var b=[function(){google.tick&&google.tick(\"load\",\"dcl\")}];google.dclc=function(a){b.length?b.push(a):a()};function c(){for(var a;a=b.shift();)a()}window.addEventListener?(document.addEventListener(\"DOMContentLoaded\",c,!1),window.addEventListener(\"load\",c,!1)):window.attachEvent&&window.attachEvent(\"onload\",c);}).call(this);</script><style>.feGi6e,.RCxLAc{border-top:1px solid #DFE1E5;padding:20px 24px 20px 24px;color:#222;display:block;font-size:15px;font-weight:400;line-height:21px;overflow:hidden;text-overflow:ellipsis;white-space:nowrap}.V5niGc,.kQPfE{font-family:Roboto,HelveticaNeue,Arial,sans-serif;color:#222;border-bottom:1px solid #DFE1E5;display:block;font-size:15px !important;font-weight:400;line-height:21px;padding:20px 24px 20px 24px}.Ea153d{font-size:18px !important}.V5niGc a{color:inherit}.bkWMgd{border-bottom:0}.card-section,.xo6e2b{display:block;margin:0;padding:0px 24px 0px 24px}.card-section~.card-section:not(.rQUFld),.card-section~div>.card-section:not(.rQUFld),.xo6e2b~.xo6e2b:not(.rQUFld){border-top:1px solid #DFE1E5}.V5niGc .m5quV{margin-bottom:-20px}.card-section .x3Vcd{margin-top:-0px}.card-section .FZCAbf{margin-right:-24px}.card-section .m5quV{margin-bottom:-0px}.card-section .Wxuafb{margin-left:-24px}.fidQXb{padding-bottom:0}.card:not(:empty),.mnr-c:not(:empty){background-color:#fff;margin:0 0 16px 0;overflow:hidden;box-shadow:0 1px 6px rgba(32, 33, 36, 0.28);border-radius:8px;}.mnr-c .mnr-c{box-shadow:none}.card .card,.mnr-c .mnr-c{margin-bottom:0 !important}.iUh30{font-size:15px;}.hJND5c,.slp{display:block;margin-bottom:1px}.f,.f a:link{color:#3C4043;}.a,cite,cite a:link,cite a:visited,.cite,.cite:link,#nygTcd>i,.bc a:link{color:#006621;font-style:normal}a.fl:link,.fl a,.flt,a.flt,.gl a:link,a.mblink,.mblink b{color:#1967D2}#resultStats{color:#999;}.osl{margin-top:4px}#lb{z-index:1001;position:absolute;top:-1000px}.WqQeqc{display:inline-block;height:24px;position:relative;width:24px;z-index:0}.WqQeqc span{display:block;background-color:currentColor;height:100%;mask-size:100% 100%;width:100%;}.vk_h{}.vk_c a{text-decoration:none}.vk_gn{color:#3d9400 !important}.vk_rd{color:#dd4b39 !important}.bTuXH{color:#545454 !important}.vk_gy{color:#878787 !important}.vk_lgy{color:#bababa !important}.vk_blgy{border-color:#bababa}.vk_bk{color:#212121 !important}.vk_fl a{color:#878787}.vk_fl a:hover{color:#1967D2}.dDoNo{font-weight:lighter !important;margin-bottom:5px}.dDoNo{font-size:xx-large !important}.dDoNo.vk_long{font-size:20px !important}.vk_h{font-weight:lighter !important}.vk_h{font-size:x-large !important}.vk_sh,.vk_hs,.vk_med{font-weight:lighter !important}.vk_sh{font-size:medium !important}.Uekwlc{font-weight:lighter !important}.Uekwlc{font-size:small !important;}.p13zmc{font-weight:lighter !important}.vk_cdns{font-size:13px !important}.cYvRhe{font-weight:bold !important}body,.g,html,.std,.c h2,h1,#cdr_min,#cdr_max,.cpbb,.kpbb,.kprb,.kpgb,.kpgrb,.ksb{font-family:Roboto,HelveticaNeue,Arial,sans-serif}.dDoNo,.vk_h,.vk_sh,.Uekwlc,.p13zmc{font-family:arial,sans-serif-light,sans-serif}.cYvRhe,.di8g3{font-family:arial,sans-serif-medium,sans-serif}.vk_c,.vk_cxp,#rhs .fIcnad{border:none;box-shadow:0px 1px 4px 0px rgba(0,0,0,0.2);box-shadow:0px 1px 4px 0px rgba(0,0,0,0.2)}#rhs .fIcnad{border:none;margin-left:2px}.vk_c,.vk_cxp{position:relative}.vkc_np{margin-left:-20px;margin-right:-20px}.WIDPrb,.ts .WIDPrb{padding-left:20px}.iiFzhd,.ts .iiFzhd{padding-right:20px}.vk_pt,.ts .vk_pt{padding-top:20px}.QiLuMc{padding-bottom:20px}.vk_c,.vk_cxp{margin-left:-8px;margin-right:-35px}.vk_c,.vk_cxp,.vk_ic{padding:20px 20px 24px 20px}.vk_c .vk_c,.vk_c .vk_cxp{border-radius:0;box-shadow:none;background-color:transparent;border:0;box-shadow:none;margin:0;padding:0;position:static}.vk_cxp{padding-top:30px;padding-bottom:34px}.vk_c_cxp{margin-top:10px;margin-bottom:10px}.vk_gbb{border-bottom:1px solid #eee}.vk_gbr{border-right:1px solid #eee}.vk_gbt{border-top:1px solid #eee}.vk_cf{margin:0 -20px 0 -20px;padding:16px 20px 16px 20px}.vk_cf a,.vk_cf a:link,a.vk_cf,a.vk_cf:link{color:#878787}.vk_cf a:hover,a.vk_cf:hover{color:#1967D2}.vk_slic{display:inline-block;margin-top:-3px;margin-right:16px;position:relative;height:24px;width:24px;vertical-align:middle}.vk_sli,.vk_slih{border:none;position:absolute;top:0;left:0;height:24px;width:24px}a:hover .vk_sli,.vk_slih{display:none}a:hover .vk_slih,.vk_sli{display:inline-block}.vk_spc{height:16px;width:100%}.vk_ra{transform:rotate(90deg)}.vk_arc{border-top:1px solid #DFE1E5;cursor:pointer;height:0px;margin-bottom:-23px;overflow:hidden;padding:20px 0;text-align:center}.vk_ard{top:-11px}.vk_aru{bottom:-6px}.vk_ard,.vk_aru{background-color:#e5e5e5;margin-left:auto;margin-right:auto;position:relative}.vk_ard,.vk_aru{height:6px;width:64px}.vk_ard:after,.vk_ard:before,.vk_aru:after,.vk_aru:before{content:' ';height:0;left:0;position:absolute;width:0}.vk_ard:after,.vk_ard:before,.vk_aru:after,.vk_aru:before{border-left:32px solid rgba(229,229,229,0);border-right:32px solid rgba(229,229,229,0)}.vk_ard:before{border-top:16px solid #e5e5e5;top:6px}.vk_aru:before{border-bottom:16px solid #e5e5e5;bottom:6px}.vk_ard:after{top:0}.vk_ard:after{border-top:16px solid #fff}.vk_aru:after{bottom:0}.vk_aru:after{border-bottom:16px solid #fff}.vk_bk.vk_ard,.vk_bk.vk_aru{background-color:#212121}.vk_bk.vk_ard:before{border-top-color:#212121}.vk_bk.vk_aru:before{border-bottom-color:#212121}.di8g3{font-size:11px !important;padding:6px 8px}#center_col .di8g3{margin:0 -35px 0 -8px;padding:6px 20px 0}#rhs .di8g3{margin-left:2px;padding-bottom:5px;padding-top:5px}.di8g3,.di8g3 a{color:#878787 !important;text-decoration:none}.di8g3 a:hover{text-decoration:underline}.hntNk.vk_c{padding-top:24px;padding-bottom:20px}.hntNk .dDoNo{margin-bottom:0;word-wrap:break-word}.hntNk .vk_gy{margin-bottom:5px}.pVFdhc{background-color:#ebebeb;height:1px}.vk_tbl{border-collapse:collapse}.vk_tbl td{padding:0}.xpdclps,.xpdxpnd{overflow:hidden}.xpdclps,.xpdxpnd{transition:max-height 0.3s}.xpdxpnd,.xpdopen .xpdclps,.xpdopen .xpdxpnd.xpdnoxpnd{max-height:0}.xpdopen .xpdxpnd{max-height:none}.xpdopen .xpdbox .xpdxpnd,.xpdopen .xpdbox.xpdopen .xpdclps{max-height:0}.xpdopen .xpdbox.xpdopen .xpdxpnd,.xpdopen .xpdbox .xpdclps{max-height:none}.xpdclose .k5nfEc,.xpdopen .f9jNFb{display:none}.focused{}.appbar{}.qs-l{}@-webkit-keyframes qs-timer {0%{}}body{margin:0;background:#fff;font-family:Roboto,HelveticaNeue,Arial,sans-serif;color:#3C4043;}.st{color:#3C4043}#cnt{overflow-x:hidden;margin-top:-10px;padding-top:10px;}.g,body,html,.std,h1{font-size:small;font-family:Roboto,HelveticaNeue,Arial,sans-serif}h3,#rso,#topstuff,.r{font-size:medium}body.qs-l{overflow:hidden}.c h2{color:#666}a,.w,a.feGi6e{color:#1967D2;text-decoration:none;-webkit-tap-highlight-color:rgba(0,0,0,.1)}.mblink:visited,a:visited{color:#4B11A8}.nA3Vyd,.qE5Dec{border-top-left-radius:8px;border-top-right-radius:8px}.eJhUR,.qE5Dec{border-bottom-left-radius:8px;border-bottom-right-radius:8px}.zbA8Me{font-weight:bold;text-transform:uppercase;font-size:12px;line-height:12px;letter-spacing:0.3px}.s .st em,.st.s.std em{color:#3C4043}h3{font-weight:normal;margin:0;padding:0}.r{font-size:medium;font-weight:inherit;margin:0}h3.r{line-height:}#rso h3,#topstuff h3{font-size:}cite{color:#006621;font-style:normal}em{font-weight:bold;font-style:normal}ol li{list-style:none}ol,ul,li{margin:0;padding:0}button{margin:0}.g,.C4eCVc{font-size:14px;line-height:20px;text-align:left}#tads a{text-decoration:none}.center_col,#fbtns{padding:1px 10px 0}#fbtns{padding-top:0}.b{font-weight:bold}.xsm{font-size:x-small}.std{font-size:small}.ts{border-collapse:collapse}.ts td{padding:0}.ts.std .r a{color:#1967D2;border-bottom:0}.ts.std .r a:visited{color:#4B11A8;border-bottom:0}.cpbb,.kpbb,.kprb,.kpgb,.kpgrb,.ksb{border-radius:2px;cursor:default;font-family:Roboto,HelveticaNeue,Arial,sans-serif;font-size:11px;font-weight:bold;height:27px;line-height:27px;margin:2px 0;min-width:54px;padding:0 8px;text-align:center;transition:all 0.218s,visibility 0s}.kpbb,.kprb,.kpgb,.kpgrb{color:#fff}.kpbb{background-color:#4d90fe;background-image:linear-gradient(top,#4d90fe,#4787ed);border:1px solid #3079ed}.kpgrb{background-color:#f5f5f5;background-image:linear-gradient(top,#f5f5f5,#f1f1f1);border:1px solid #dcdcdc;color:#555}.ksb{background-color:#f8f8f8;background-image:linear-gradient(top,#f8f8f8,#f1f1f1);border:1px solid #c6c6c6;color:#222}.ksb.mini{box-sizing:content-box;height:17px;line-height:17px;min-width:0}a.ab_button{display:inline-block}.osl{overflow:hidden;color:#70757A}.osl a{white-space:nowrap}.ellip{overflow:hidden;text-overflow:ellipsis;white-space:nowrap}.csb{display:block}.gic{position:relative;overflow:hidden;z-index:0}[data-hveid]{tap-highlight-color:rgba(0,0,0,0)}.rc{position:relative;}.gl:visited{color:#666}.bprBJc{display:flex;align-items:center}.gy3q1e{vertical-align:middle;display:inline-block}.khgTR{border-bottom:1px solid #DFE1E5;display:block;line-height:22px;margin:0px 0 12px;padding:0 0 11px;}.khgTR .f.hJND5c{margin-top:0px;overflow:hidden;white-space:nowrap}.khgTR.QEhTP{border-bottom:none;margin-bottom:0;padding-bottom:0}.khgTR.lWEpfd{border-bottom:none;margin-bottom:0;padding-bottom:0}.uZfOAb{clear:both;}.jtDWfd{margin-left:-10px;margin-right:-10px}.gpeho{margin-left:-10px;margin-right:-10px;padding:12px 0 5px}.tTfzVd{padding-top:9px}.pb0Ufd{border-radius:4px;border:1px solid rgba(0,0,0,0.12);font-size:14px;line-height:16px;margin-left:10px;padding:7px 8px;display:inline-block;text-align:center}.pb0Ufd:last-child{margin-right:24px}.qB8Uve{display:block;line-height:20px;position:relative;white-space:nowrap}.lP8Inb{padding-right:0;white-space:normal}.J6AsYb{left:0;position:absolute;top:0}.mJ9kob{display:inline-block}.sbuwl{color:#202124;overflow:hidden;text-overflow:ellipsis}.P1usbc{display:table;color:#808080;margin-top:16px;}.G1Rrjc{display:table-cell;padding-left:15px;vertical-align:baseline}.i4vd5e{display:table-cell}.VNLkW{display:table-row;vertical-align:top}.h7mcFf{color:#999}.k6DEPe{margin-top:4px}.P1usbc .FUUCsd{color:#202124}.P1usbc .FUUCsd span{color:#70757A}.TXwUJf{color:#3C4043}.PcHvNb{position:absolute}.N3nEGc{background-color:#fff;float:left;overflow:hidden;margin-top:4px;position:relative}.wEQKyf.N3nEGc{float:right;margin:7px 0 5px 12px}.Ixi80c{margin-top:0px}.i0PvJb{background-color:#000}.mWTy7c{border-top-left-radius:2px;bottom:0;font-size:11px;font-weight:bold;padding:1px 3px;position:absolute;right:0;text-align:right;text-decoration:none;background-color:rgba(0,0,0,.7);color:#fff}.bc{}.TbwUpd a.fl{font-size:15px}.TbwUpd.rLwn0d{overflow:hidden;text-overflow:ellipsis}.WjWTQ{color:#3C4043;font-style:italic}.H89pHb{margin-right:6px}.st sup{line-height:0.9}.mOd06 em{font-weight:bold !important}#hdtbSum,a,.g8uwNb,cite{font-family:Roboto,HelveticaNeue,Arial,sans-serif !important;font-weight:inherit}.f>a,.TXwUJf,.TXwUJf a{font-family:Roboto,HelveticaNeue,Arial,sans-serif !important}.kno-ecr-pt{}.kno-ecr-pt{color:#000;font-family:arial,sans-serif-light,sans-serif;display:inline;font-size:30px;font-weight:normal;position:relative;transform-origin:left top;transform-origin:left top;word-wrap:break-word}#pnnext b{font-weight:normal}.fmulti{}.GNlFYb{color:#5f6368}.p2Kmnc{color:#222;font-size:14px;font-weight:normal;tap-highlight-color:rgba(0,0,0,0)}.Seo5Sb{display:inline-block;opacity:0.55;vertical-align:top}a.p2Kmnc:hover .Seo5Sb,a.p2Kmnc:active .Seo5Sb{opacity:1.0}.GNlFYb{margin:40px 0}.TfEe9d{margin-right:10px}.fbar p{display:inline}.fbar a,#fsettl{text-decoration:none;white-space:nowrap}.fbar{margin-left:-27px}.Fx4vi{padding-left:27px;margin:0 !important}.In26Ec{padding:0 !important;margin:0 !important}#fbarcnt{display:block}.smiUbb img{margin-right:4px}.smiUbb a,.M6hT6 #swml a{text-decoration:none}.fmulti{text-align:center}.fmulti #fsr{display:block;float:none}.fmulti #fuser{display:block;float:none}#fuserm{line-height:25px}#fsr{float:right;white-space:nowrap}#fsl{white-space:nowrap}#fsett{background:#fff;border:1px solid #999;bottom:30px;padding:10px 0;position:absolute;box-shadow:0 2px 4px rgba(0,0,0,0.2);box-shadow:0 2px 4px rgba(0,0,0,0.2);text-align:left;z-index:104}#fsett a{display:block;line-height:44px;padding:0 20px;text-decoration:none;white-space:nowrap}.p2Kmnc{padding:8px 16px;margin-right:10px}.B4GxFc{margin-left:135px}#fbar{background:#f2f2f2;border-top:1px solid #e4e4e4;line-height:40px;min-width:980px}.yBWvle{margin-left:135px}.fbar p,.fbar a,#fsettl,#fsett a{color:#5f6368}.fbar a:hover,#fsett a:hover{color:#333}.fbar{font-size:small}#fuser{float:right}.smiUbb{margin-left:135px;line-height:15px;color:#5f6368;}.known_loc{background:#4285f4}.unknown_loc{background:#9e9e9e}.known_loc,.unknown_loc{border-radius:100%;display:inline-block;height:10px;margin:6px 4px 9px 0;vertical-align:middle;width:10px}#Wprf1b{color:#333;font-weight:bold}#swml a{display:inline-block}</style></head><body jsmodel=\" \"><style>html,body{font-family:'Roboto',arial,sans-serif;height:100%}</style><div jsdata=\"ALusFc;;CSat+k\" jsmodel=\"uIhXXc\"><div><style>.w43NHb{background-color:#fafafa;height:100%;position:absolute;width:100%;display:flex;justify-content:center;flex-direction:column}.qDdeqd{flex:1}.diIKdd{flex:2;text-align:center}.SC3FEd{padding-top:34px;font-size:18px;font-weight:medium;color:rgba(0,0,0,.87)}.oLm9bf{padding-top:28px;vertical-align:middle;font-size:14px;font-weight:medium;color:#2869D3}.oLm9bf a{text-decoration:none;text-transform:uppercase}.oLm9bf a:visited{color:#2869D3}</style><div class=\"w43NHb\"><div class=\"qDdeqd\"></div><div class=\"diIKdd\"><div><img alt=\"\" src=\"data:image/png;base64,iVBORw0KGgoAAAANSUhEUgAAAEcAAABEBAMAAAAhCjWCAAAAFVBMVEVMaXEAAAAAAAAAAAAAAAAAAAAAAACpf3wfAAAAB3RSTlMAFjNMCD8iNAUUbQAAASxJREFUeAHl0jFTgzAYxvEHjJ2p9TpTuHPWPKVz76zOXFOdAdHv/xEEDDUCLxlcPPubMvzv3lzywhWktDaQKMOzEwRP/JbthSilIxam0bXFpAVdO0wK6dJyVB86b7NRgc4/im5evhiS4+Mxst8qs1+t6LMFrumTtXf0KpDSK4eh1z1I7paydR9tIVMXFgVJjZaqNnJkyMLuXC5FIckHAAFJLUWPJLWNuReiFRsArtiIZqIMdg+j34wL7VnNXRwpGdm5sRgFVf+Y5UXuk6UOB0+0Tgwbx7tIjNYpz2w2jNQ7XVk9ESnDgdM4WtDKaGkh0uUtALWs5EjX6KlKiF73cDybqWiDn4JkHCkMqT+/KjqZ0UWGXjlSesVY0StCSB8N+OfFziJJdmgFH3NKAJ9bpvgbi3fnBAAAAABJRU5ErkJggg==\"/></div><div class=\"SC3FEd\">Oops, your browser, device, and/or location is not yet supported.</div><div class=\"oLm9bf\"><a href=\"https://www.google.com\">Go to Google</a></div></div></div></div></div><textarea class=\"csi\" name=\"csi\" style=\"display:none\"></textarea><script nonce=\"3SKLjaOFsgCGxVSMRmM2cw==\">(function(){var e='vgo-XeLzI-fh0gKyzriADw';var sn='web';(function(){var q=function(a){var c=window,d=document;if(!a||\"none\"==a.style.display)return 0;if(d.defaultView&&d.defaultView.getComputedStyle){var b=d.defaultView.getComputedStyle(a);if(b&&(\"hidden\"==b.visibility||\"0px\"==b.height&&\"0px\"==b.width))return 0}if(!a.getBoundingClientRect)return 1;var f=a.getBoundingClientRect();a=f.left+c.pageXOffset;b=f.top+c.pageYOffset;var k=f.width;f=f.height;return 0>=f&&0>=k?0:0>b+f?2:b>=(c.innerHeight||d.documentElement.clientHeight)?3:0>a+k||a>=(c.innerWidth||d.documentElement.clientWidth)?4:1};var r=e,v=sn;function w(a,c,d){a=\"/gen_204?atyp=csi&s=\"+(v||\"web\")+\"&t=\"+a+(\"&lite=1&ei=\"+r+\"&conn=\"+(window.navigator&&window.navigator.connection?window.navigator.connection.type:-1)+c);c=\"&rt=\";for(var b in d)a+=c+b+\".\"+d[b],c=\",\";return a}function x(a){a={prt:a};window.wsrt&&(a.wsrt=window.wsrt);return a}function y(a){window.ping?window.ping(a):(new Image).src=a}\n",
      "(function(){for(var a=+new Date-window.start,c=x(a),d=0,b=0,f=0,k=document.getElementsByTagName(\"img\"),m=\"&imn=\"+k.length+\"&biw=\"+window.innerWidth+\"&bih=\"+window.innerHeight,A=function(h,z){h.onload=function(){b=+new Date-window.start;z&&++n==f&&(d=b,t());h.onload=null}},t=function(){m+=\"&ima=\"+f;c.aft=d;y(w(\"aft\",m,c))},n=0,B=0,g=void 0;g=k[B++];){var l=1==q(g);l&&++f;var u=g.complete&&!g.getAttribute(\"data-deferred\"),p=u&&Number(g.getAttribute(\"data-iml\"))||0;u&&p?(l&&++n,p&&(g=p-window.start,l&&(d=Math.max(d,g)),b=Math.max(b,g))):A(g,l)}d||(d=a);b||(b=d);n==f&&t();window.addEventListener(\"load\",function(){window.setTimeout(function(){c.ol=+new Date-window.start;c.iml=b;var h=window.performance&&window.performance.timing;h&&(c.rqst=h.responseEnd-h.requestStart,c.rspt=h.responseEnd-h.responseStart);y(w(\"all\",m,c))},0)},!1)})();}).call(this);})();</script><script nonce=\"3SKLjaOFsgCGxVSMRmM2cw==\">google.x(null, function(){(function(){(function(){google.csct={};google.csct.ps='AOvVaw18QmugF1RxBD1la7yn9W2X\\x26ust\\x3d1564433470598930';})();})();(function(){(function(){google.csct.rd=true;})();})();});google.drty&&google.drty();</script></body></html>\n"
     ]
    }
   ],
   "source": [
    "# For testing google jobs\n",
    "\n",
    "cities = ['San Francisco, California', 'Honolulu, Hawaii', 'New York, New York']\n",
    "\n",
    "roles = ['Data Scientist',\n",
    "    'Data Analyst']\n",
    "    #'Business Analyst',\n",
    "    #'Business Intelligence',\n",
    "    #'Data Engineer',\n",
    "    #'Machine Learning Engineer',\n",
    "    #'Machine Learning Scientist',\n",
    "    #'Artificial Intelligence Researcher',\n",
    "    #'Statistical Modeler']\n",
    "\n",
    "df_main = pd.DataFrame()\n",
    "for city in cities:\n",
    "    for role in roles:\n",
    "        url =get_url(city, role)\n",
    "        print(url)\n",
    "        soup = get_names(url)\n",
    "        print(soup)\n",
    "        \n",
    "        "
   ]
  },
  {
   "cell_type": "code",
   "execution_count": 16,
   "metadata": {},
   "outputs": [
    {
     "data": {
      "text/plain": [
       "<!DOCTYPE html>\n",
       "<html><head><meta charset=\"utf-8\"/><meta content=\"/images/branding/googleg/1x/googleg_standard_color_128dp.png\" itemprop=\"image\"/><title>Jobs</title><script nonce=\"3SKLjaOFsgCGxVSMRmM2cw==\">(function(){window.google={kEI:'vgo-XeLzI-fh0gKyzriADw',authuser:0};google.sn='web';google.kHL='en';google.jsfs='';})();(function(){google.lc=[];google.li=0;google.getEI=function(a){for(var b;a&&(!a.getAttribute||!(b=a.getAttribute(\"eid\")));)a=a.parentNode;return b||google.kEI};google.getLEI=function(a){for(var b=null;a&&(!a.getAttribute||!(b=a.getAttribute(\"leid\")));)a=a.parentNode;return b};google.https=function(){return\"https:\"==window.location.protocol};google.ml=function(){return null};google.time=function(){return(new Date).getTime()};google.log=function(a,b,e,c,g){if(a=google.logUrl(a,b,e,c,g)){b=new Image;var d=google.lc,f=google.li;d[f]=b;b.onerror=b.onload=b.onabort=function(){delete d[f]};google.vel&&google.vel.lu&&google.vel.lu(a);b.src=a;google.li=f+1}};google.logUrl=function(a,b,e,c,g){var d=\"\",f=google.ls||\"\";e||-1!=b.search(\"&ei=\")||(d=\"&ei=\"+google.getEI(c),-1==b.search(\"&lei=\")&&(c=google.getLEI(c))&&(d+=\"&lei=\"+c));c=\"\";!e&&google.cshid&&-1==b.search(\"&cshid=\")&&\"slh\"!=a&&(c=\"&cshid=\"+google.cshid);a=e||\"/\"+(g||\"gen_204\")+\"?atyp=i&ct=\"+a+\"&cad=\"+b+d+f+\"&zx=\"+google.time()+c;/^http:/i.test(a)&&google.https()&&(google.ml(Error(\"a\"),!1,{src:a,glmm:1}),a=\"\");return a};}).call(this);google.f={};(function(){var a=window.performance;window.start=(new Date).getTime();a:{var b=window;if(a){var c=a.timing;if(c){var d=c.navigationStart,e=c.responseStart;if(e>d&&e<=window.start){window.start=e;b.wsrt=e-d;break a}}a.now&&(b.wsrt=Math.floor(a.now()))}}window.google=window.google||{};google.aft=function(f){f.setAttribute(\"data-iml\",+new Date)};}).call(this);(function(){var b=[function(){google.tick&&google.tick(\"load\",\"dcl\")}];google.dclc=function(a){b.length?b.push(a):a()};function c(){for(var a;a=b.shift();)a()}window.addEventListener?(document.addEventListener(\"DOMContentLoaded\",c,!1),window.addEventListener(\"load\",c,!1)):window.attachEvent&&window.attachEvent(\"onload\",c);}).call(this);</script><style>.feGi6e,.RCxLAc{border-top:1px solid #DFE1E5;padding:20px 24px 20px 24px;color:#222;display:block;font-size:15px;font-weight:400;line-height:21px;overflow:hidden;text-overflow:ellipsis;white-space:nowrap}.V5niGc,.kQPfE{font-family:Roboto,HelveticaNeue,Arial,sans-serif;color:#222;border-bottom:1px solid #DFE1E5;display:block;font-size:15px !important;font-weight:400;line-height:21px;padding:20px 24px 20px 24px}.Ea153d{font-size:18px !important}.V5niGc a{color:inherit}.bkWMgd{border-bottom:0}.card-section,.xo6e2b{display:block;margin:0;padding:0px 24px 0px 24px}.card-section~.card-section:not(.rQUFld),.card-section~div>.card-section:not(.rQUFld),.xo6e2b~.xo6e2b:not(.rQUFld){border-top:1px solid #DFE1E5}.V5niGc .m5quV{margin-bottom:-20px}.card-section .x3Vcd{margin-top:-0px}.card-section .FZCAbf{margin-right:-24px}.card-section .m5quV{margin-bottom:-0px}.card-section .Wxuafb{margin-left:-24px}.fidQXb{padding-bottom:0}.card:not(:empty),.mnr-c:not(:empty){background-color:#fff;margin:0 0 16px 0;overflow:hidden;box-shadow:0 1px 6px rgba(32, 33, 36, 0.28);border-radius:8px;}.mnr-c .mnr-c{box-shadow:none}.card .card,.mnr-c .mnr-c{margin-bottom:0 !important}.iUh30{font-size:15px;}.hJND5c,.slp{display:block;margin-bottom:1px}.f,.f a:link{color:#3C4043;}.a,cite,cite a:link,cite a:visited,.cite,.cite:link,#nygTcd>i,.bc a:link{color:#006621;font-style:normal}a.fl:link,.fl a,.flt,a.flt,.gl a:link,a.mblink,.mblink b{color:#1967D2}#resultStats{color:#999;}.osl{margin-top:4px}#lb{z-index:1001;position:absolute;top:-1000px}.WqQeqc{display:inline-block;height:24px;position:relative;width:24px;z-index:0}.WqQeqc span{display:block;background-color:currentColor;height:100%;mask-size:100% 100%;width:100%;}.vk_h{}.vk_c a{text-decoration:none}.vk_gn{color:#3d9400 !important}.vk_rd{color:#dd4b39 !important}.bTuXH{color:#545454 !important}.vk_gy{color:#878787 !important}.vk_lgy{color:#bababa !important}.vk_blgy{border-color:#bababa}.vk_bk{color:#212121 !important}.vk_fl a{color:#878787}.vk_fl a:hover{color:#1967D2}.dDoNo{font-weight:lighter !important;margin-bottom:5px}.dDoNo{font-size:xx-large !important}.dDoNo.vk_long{font-size:20px !important}.vk_h{font-weight:lighter !important}.vk_h{font-size:x-large !important}.vk_sh,.vk_hs,.vk_med{font-weight:lighter !important}.vk_sh{font-size:medium !important}.Uekwlc{font-weight:lighter !important}.Uekwlc{font-size:small !important;}.p13zmc{font-weight:lighter !important}.vk_cdns{font-size:13px !important}.cYvRhe{font-weight:bold !important}body,.g,html,.std,.c h2,h1,#cdr_min,#cdr_max,.cpbb,.kpbb,.kprb,.kpgb,.kpgrb,.ksb{font-family:Roboto,HelveticaNeue,Arial,sans-serif}.dDoNo,.vk_h,.vk_sh,.Uekwlc,.p13zmc{font-family:arial,sans-serif-light,sans-serif}.cYvRhe,.di8g3{font-family:arial,sans-serif-medium,sans-serif}.vk_c,.vk_cxp,#rhs .fIcnad{border:none;box-shadow:0px 1px 4px 0px rgba(0,0,0,0.2);box-shadow:0px 1px 4px 0px rgba(0,0,0,0.2)}#rhs .fIcnad{border:none;margin-left:2px}.vk_c,.vk_cxp{position:relative}.vkc_np{margin-left:-20px;margin-right:-20px}.WIDPrb,.ts .WIDPrb{padding-left:20px}.iiFzhd,.ts .iiFzhd{padding-right:20px}.vk_pt,.ts .vk_pt{padding-top:20px}.QiLuMc{padding-bottom:20px}.vk_c,.vk_cxp{margin-left:-8px;margin-right:-35px}.vk_c,.vk_cxp,.vk_ic{padding:20px 20px 24px 20px}.vk_c .vk_c,.vk_c .vk_cxp{border-radius:0;box-shadow:none;background-color:transparent;border:0;box-shadow:none;margin:0;padding:0;position:static}.vk_cxp{padding-top:30px;padding-bottom:34px}.vk_c_cxp{margin-top:10px;margin-bottom:10px}.vk_gbb{border-bottom:1px solid #eee}.vk_gbr{border-right:1px solid #eee}.vk_gbt{border-top:1px solid #eee}.vk_cf{margin:0 -20px 0 -20px;padding:16px 20px 16px 20px}.vk_cf a,.vk_cf a:link,a.vk_cf,a.vk_cf:link{color:#878787}.vk_cf a:hover,a.vk_cf:hover{color:#1967D2}.vk_slic{display:inline-block;margin-top:-3px;margin-right:16px;position:relative;height:24px;width:24px;vertical-align:middle}.vk_sli,.vk_slih{border:none;position:absolute;top:0;left:0;height:24px;width:24px}a:hover .vk_sli,.vk_slih{display:none}a:hover .vk_slih,.vk_sli{display:inline-block}.vk_spc{height:16px;width:100%}.vk_ra{transform:rotate(90deg)}.vk_arc{border-top:1px solid #DFE1E5;cursor:pointer;height:0px;margin-bottom:-23px;overflow:hidden;padding:20px 0;text-align:center}.vk_ard{top:-11px}.vk_aru{bottom:-6px}.vk_ard,.vk_aru{background-color:#e5e5e5;margin-left:auto;margin-right:auto;position:relative}.vk_ard,.vk_aru{height:6px;width:64px}.vk_ard:after,.vk_ard:before,.vk_aru:after,.vk_aru:before{content:' ';height:0;left:0;position:absolute;width:0}.vk_ard:after,.vk_ard:before,.vk_aru:after,.vk_aru:before{border-left:32px solid rgba(229,229,229,0);border-right:32px solid rgba(229,229,229,0)}.vk_ard:before{border-top:16px solid #e5e5e5;top:6px}.vk_aru:before{border-bottom:16px solid #e5e5e5;bottom:6px}.vk_ard:after{top:0}.vk_ard:after{border-top:16px solid #fff}.vk_aru:after{bottom:0}.vk_aru:after{border-bottom:16px solid #fff}.vk_bk.vk_ard,.vk_bk.vk_aru{background-color:#212121}.vk_bk.vk_ard:before{border-top-color:#212121}.vk_bk.vk_aru:before{border-bottom-color:#212121}.di8g3{font-size:11px !important;padding:6px 8px}#center_col .di8g3{margin:0 -35px 0 -8px;padding:6px 20px 0}#rhs .di8g3{margin-left:2px;padding-bottom:5px;padding-top:5px}.di8g3,.di8g3 a{color:#878787 !important;text-decoration:none}.di8g3 a:hover{text-decoration:underline}.hntNk.vk_c{padding-top:24px;padding-bottom:20px}.hntNk .dDoNo{margin-bottom:0;word-wrap:break-word}.hntNk .vk_gy{margin-bottom:5px}.pVFdhc{background-color:#ebebeb;height:1px}.vk_tbl{border-collapse:collapse}.vk_tbl td{padding:0}.xpdclps,.xpdxpnd{overflow:hidden}.xpdclps,.xpdxpnd{transition:max-height 0.3s}.xpdxpnd,.xpdopen .xpdclps,.xpdopen .xpdxpnd.xpdnoxpnd{max-height:0}.xpdopen .xpdxpnd{max-height:none}.xpdopen .xpdbox .xpdxpnd,.xpdopen .xpdbox.xpdopen .xpdclps{max-height:0}.xpdopen .xpdbox.xpdopen .xpdxpnd,.xpdopen .xpdbox .xpdclps{max-height:none}.xpdclose .k5nfEc,.xpdopen .f9jNFb{display:none}.focused{}.appbar{}.qs-l{}@-webkit-keyframes qs-timer {0%{}}body{margin:0;background:#fff;font-family:Roboto,HelveticaNeue,Arial,sans-serif;color:#3C4043;}.st{color:#3C4043}#cnt{overflow-x:hidden;margin-top:-10px;padding-top:10px;}.g,body,html,.std,h1{font-size:small;font-family:Roboto,HelveticaNeue,Arial,sans-serif}h3,#rso,#topstuff,.r{font-size:medium}body.qs-l{overflow:hidden}.c h2{color:#666}a,.w,a.feGi6e{color:#1967D2;text-decoration:none;-webkit-tap-highlight-color:rgba(0,0,0,.1)}.mblink:visited,a:visited{color:#4B11A8}.nA3Vyd,.qE5Dec{border-top-left-radius:8px;border-top-right-radius:8px}.eJhUR,.qE5Dec{border-bottom-left-radius:8px;border-bottom-right-radius:8px}.zbA8Me{font-weight:bold;text-transform:uppercase;font-size:12px;line-height:12px;letter-spacing:0.3px}.s .st em,.st.s.std em{color:#3C4043}h3{font-weight:normal;margin:0;padding:0}.r{font-size:medium;font-weight:inherit;margin:0}h3.r{line-height:}#rso h3,#topstuff h3{font-size:}cite{color:#006621;font-style:normal}em{font-weight:bold;font-style:normal}ol li{list-style:none}ol,ul,li{margin:0;padding:0}button{margin:0}.g,.C4eCVc{font-size:14px;line-height:20px;text-align:left}#tads a{text-decoration:none}.center_col,#fbtns{padding:1px 10px 0}#fbtns{padding-top:0}.b{font-weight:bold}.xsm{font-size:x-small}.std{font-size:small}.ts{border-collapse:collapse}.ts td{padding:0}.ts.std .r a{color:#1967D2;border-bottom:0}.ts.std .r a:visited{color:#4B11A8;border-bottom:0}.cpbb,.kpbb,.kprb,.kpgb,.kpgrb,.ksb{border-radius:2px;cursor:default;font-family:Roboto,HelveticaNeue,Arial,sans-serif;font-size:11px;font-weight:bold;height:27px;line-height:27px;margin:2px 0;min-width:54px;padding:0 8px;text-align:center;transition:all 0.218s,visibility 0s}.kpbb,.kprb,.kpgb,.kpgrb{color:#fff}.kpbb{background-color:#4d90fe;background-image:linear-gradient(top,#4d90fe,#4787ed);border:1px solid #3079ed}.kpgrb{background-color:#f5f5f5;background-image:linear-gradient(top,#f5f5f5,#f1f1f1);border:1px solid #dcdcdc;color:#555}.ksb{background-color:#f8f8f8;background-image:linear-gradient(top,#f8f8f8,#f1f1f1);border:1px solid #c6c6c6;color:#222}.ksb.mini{box-sizing:content-box;height:17px;line-height:17px;min-width:0}a.ab_button{display:inline-block}.osl{overflow:hidden;color:#70757A}.osl a{white-space:nowrap}.ellip{overflow:hidden;text-overflow:ellipsis;white-space:nowrap}.csb{display:block}.gic{position:relative;overflow:hidden;z-index:0}[data-hveid]{tap-highlight-color:rgba(0,0,0,0)}.rc{position:relative;}.gl:visited{color:#666}.bprBJc{display:flex;align-items:center}.gy3q1e{vertical-align:middle;display:inline-block}.khgTR{border-bottom:1px solid #DFE1E5;display:block;line-height:22px;margin:0px 0 12px;padding:0 0 11px;}.khgTR .f.hJND5c{margin-top:0px;overflow:hidden;white-space:nowrap}.khgTR.QEhTP{border-bottom:none;margin-bottom:0;padding-bottom:0}.khgTR.lWEpfd{border-bottom:none;margin-bottom:0;padding-bottom:0}.uZfOAb{clear:both;}.jtDWfd{margin-left:-10px;margin-right:-10px}.gpeho{margin-left:-10px;margin-right:-10px;padding:12px 0 5px}.tTfzVd{padding-top:9px}.pb0Ufd{border-radius:4px;border:1px solid rgba(0,0,0,0.12);font-size:14px;line-height:16px;margin-left:10px;padding:7px 8px;display:inline-block;text-align:center}.pb0Ufd:last-child{margin-right:24px}.qB8Uve{display:block;line-height:20px;position:relative;white-space:nowrap}.lP8Inb{padding-right:0;white-space:normal}.J6AsYb{left:0;position:absolute;top:0}.mJ9kob{display:inline-block}.sbuwl{color:#202124;overflow:hidden;text-overflow:ellipsis}.P1usbc{display:table;color:#808080;margin-top:16px;}.G1Rrjc{display:table-cell;padding-left:15px;vertical-align:baseline}.i4vd5e{display:table-cell}.VNLkW{display:table-row;vertical-align:top}.h7mcFf{color:#999}.k6DEPe{margin-top:4px}.P1usbc .FUUCsd{color:#202124}.P1usbc .FUUCsd span{color:#70757A}.TXwUJf{color:#3C4043}.PcHvNb{position:absolute}.N3nEGc{background-color:#fff;float:left;overflow:hidden;margin-top:4px;position:relative}.wEQKyf.N3nEGc{float:right;margin:7px 0 5px 12px}.Ixi80c{margin-top:0px}.i0PvJb{background-color:#000}.mWTy7c{border-top-left-radius:2px;bottom:0;font-size:11px;font-weight:bold;padding:1px 3px;position:absolute;right:0;text-align:right;text-decoration:none;background-color:rgba(0,0,0,.7);color:#fff}.bc{}.TbwUpd a.fl{font-size:15px}.TbwUpd.rLwn0d{overflow:hidden;text-overflow:ellipsis}.WjWTQ{color:#3C4043;font-style:italic}.H89pHb{margin-right:6px}.st sup{line-height:0.9}.mOd06 em{font-weight:bold !important}#hdtbSum,a,.g8uwNb,cite{font-family:Roboto,HelveticaNeue,Arial,sans-serif !important;font-weight:inherit}.f>a,.TXwUJf,.TXwUJf a{font-family:Roboto,HelveticaNeue,Arial,sans-serif !important}.kno-ecr-pt{}.kno-ecr-pt{color:#000;font-family:arial,sans-serif-light,sans-serif;display:inline;font-size:30px;font-weight:normal;position:relative;transform-origin:left top;transform-origin:left top;word-wrap:break-word}#pnnext b{font-weight:normal}.fmulti{}.GNlFYb{color:#5f6368}.p2Kmnc{color:#222;font-size:14px;font-weight:normal;tap-highlight-color:rgba(0,0,0,0)}.Seo5Sb{display:inline-block;opacity:0.55;vertical-align:top}a.p2Kmnc:hover .Seo5Sb,a.p2Kmnc:active .Seo5Sb{opacity:1.0}.GNlFYb{margin:40px 0}.TfEe9d{margin-right:10px}.fbar p{display:inline}.fbar a,#fsettl{text-decoration:none;white-space:nowrap}.fbar{margin-left:-27px}.Fx4vi{padding-left:27px;margin:0 !important}.In26Ec{padding:0 !important;margin:0 !important}#fbarcnt{display:block}.smiUbb img{margin-right:4px}.smiUbb a,.M6hT6 #swml a{text-decoration:none}.fmulti{text-align:center}.fmulti #fsr{display:block;float:none}.fmulti #fuser{display:block;float:none}#fuserm{line-height:25px}#fsr{float:right;white-space:nowrap}#fsl{white-space:nowrap}#fsett{background:#fff;border:1px solid #999;bottom:30px;padding:10px 0;position:absolute;box-shadow:0 2px 4px rgba(0,0,0,0.2);box-shadow:0 2px 4px rgba(0,0,0,0.2);text-align:left;z-index:104}#fsett a{display:block;line-height:44px;padding:0 20px;text-decoration:none;white-space:nowrap}.p2Kmnc{padding:8px 16px;margin-right:10px}.B4GxFc{margin-left:135px}#fbar{background:#f2f2f2;border-top:1px solid #e4e4e4;line-height:40px;min-width:980px}.yBWvle{margin-left:135px}.fbar p,.fbar a,#fsettl,#fsett a{color:#5f6368}.fbar a:hover,#fsett a:hover{color:#333}.fbar{font-size:small}#fuser{float:right}.smiUbb{margin-left:135px;line-height:15px;color:#5f6368;}.known_loc{background:#4285f4}.unknown_loc{background:#9e9e9e}.known_loc,.unknown_loc{border-radius:100%;display:inline-block;height:10px;margin:6px 4px 9px 0;vertical-align:middle;width:10px}#Wprf1b{color:#333;font-weight:bold}#swml a{display:inline-block}</style></head><body jsmodel=\" \"><style>html,body{font-family:'Roboto',arial,sans-serif;height:100%}</style><div jsdata=\"ALusFc;;CSat+k\" jsmodel=\"uIhXXc\"><div><style>.w43NHb{background-color:#fafafa;height:100%;position:absolute;width:100%;display:flex;justify-content:center;flex-direction:column}.qDdeqd{flex:1}.diIKdd{flex:2;text-align:center}.SC3FEd{padding-top:34px;font-size:18px;font-weight:medium;color:rgba(0,0,0,.87)}.oLm9bf{padding-top:28px;vertical-align:middle;font-size:14px;font-weight:medium;color:#2869D3}.oLm9bf a{text-decoration:none;text-transform:uppercase}.oLm9bf a:visited{color:#2869D3}</style><div class=\"w43NHb\"><div class=\"qDdeqd\"></div><div class=\"diIKdd\"><div><img alt=\"\" src=\"data:image/png;base64,iVBORw0KGgoAAAANSUhEUgAAAEcAAABEBAMAAAAhCjWCAAAAFVBMVEVMaXEAAAAAAAAAAAAAAAAAAAAAAACpf3wfAAAAB3RSTlMAFjNMCD8iNAUUbQAAASxJREFUeAHl0jFTgzAYxvEHjJ2p9TpTuHPWPKVz76zOXFOdAdHv/xEEDDUCLxlcPPubMvzv3lzywhWktDaQKMOzEwRP/JbthSilIxam0bXFpAVdO0wK6dJyVB86b7NRgc4/im5evhiS4+Mxst8qs1+t6LMFrumTtXf0KpDSK4eh1z1I7paydR9tIVMXFgVJjZaqNnJkyMLuXC5FIckHAAFJLUWPJLWNuReiFRsArtiIZqIMdg+j34wL7VnNXRwpGdm5sRgFVf+Y5UXuk6UOB0+0Tgwbx7tIjNYpz2w2jNQ7XVk9ESnDgdM4WtDKaGkh0uUtALWs5EjX6KlKiF73cDybqWiDn4JkHCkMqT+/KjqZ0UWGXjlSesVY0StCSB8N+OfFziJJdmgFH3NKAJ9bpvgbi3fnBAAAAABJRU5ErkJggg==\"/></div><div class=\"SC3FEd\">Oops, your browser, device, and/or location is not yet supported.</div><div class=\"oLm9bf\"><a href=\"https://www.google.com\">Go to Google</a></div></div></div></div></div><textarea class=\"csi\" name=\"csi\" style=\"display:none\"></textarea><script nonce=\"3SKLjaOFsgCGxVSMRmM2cw==\">(function(){var e='vgo-XeLzI-fh0gKyzriADw';var sn='web';(function(){var q=function(a){var c=window,d=document;if(!a||\"none\"==a.style.display)return 0;if(d.defaultView&&d.defaultView.getComputedStyle){var b=d.defaultView.getComputedStyle(a);if(b&&(\"hidden\"==b.visibility||\"0px\"==b.height&&\"0px\"==b.width))return 0}if(!a.getBoundingClientRect)return 1;var f=a.getBoundingClientRect();a=f.left+c.pageXOffset;b=f.top+c.pageYOffset;var k=f.width;f=f.height;return 0>=f&&0>=k?0:0>b+f?2:b>=(c.innerHeight||d.documentElement.clientHeight)?3:0>a+k||a>=(c.innerWidth||d.documentElement.clientWidth)?4:1};var r=e,v=sn;function w(a,c,d){a=\"/gen_204?atyp=csi&s=\"+(v||\"web\")+\"&t=\"+a+(\"&lite=1&ei=\"+r+\"&conn=\"+(window.navigator&&window.navigator.connection?window.navigator.connection.type:-1)+c);c=\"&rt=\";for(var b in d)a+=c+b+\".\"+d[b],c=\",\";return a}function x(a){a={prt:a};window.wsrt&&(a.wsrt=window.wsrt);return a}function y(a){window.ping?window.ping(a):(new Image).src=a}\n",
       "(function(){for(var a=+new Date-window.start,c=x(a),d=0,b=0,f=0,k=document.getElementsByTagName(\"img\"),m=\"&imn=\"+k.length+\"&biw=\"+window.innerWidth+\"&bih=\"+window.innerHeight,A=function(h,z){h.onload=function(){b=+new Date-window.start;z&&++n==f&&(d=b,t());h.onload=null}},t=function(){m+=\"&ima=\"+f;c.aft=d;y(w(\"aft\",m,c))},n=0,B=0,g=void 0;g=k[B++];){var l=1==q(g);l&&++f;var u=g.complete&&!g.getAttribute(\"data-deferred\"),p=u&&Number(g.getAttribute(\"data-iml\"))||0;u&&p?(l&&++n,p&&(g=p-window.start,l&&(d=Math.max(d,g)),b=Math.max(b,g))):A(g,l)}d||(d=a);b||(b=d);n==f&&t();window.addEventListener(\"load\",function(){window.setTimeout(function(){c.ol=+new Date-window.start;c.iml=b;var h=window.performance&&window.performance.timing;h&&(c.rqst=h.responseEnd-h.requestStart,c.rspt=h.responseEnd-h.responseStart);y(w(\"all\",m,c))},0)},!1)})();}).call(this);})();</script><script nonce=\"3SKLjaOFsgCGxVSMRmM2cw==\">google.x(null, function(){(function(){(function(){google.csct={};google.csct.ps='AOvVaw18QmugF1RxBD1la7yn9W2X\\x26ust\\x3d1564433470598930';})();})();(function(){(function(){google.csct.rd=true;})();})();});google.drty&&google.drty();</script></body></html>"
      ]
     },
     "execution_count": 16,
     "metadata": {},
     "output_type": "execute_result"
    }
   ],
   "source": [
    "soup"
   ]
  },
  {
   "cell_type": "code",
   "execution_count": 17,
   "metadata": {},
   "outputs": [
    {
     "data": {
      "text/plain": [
       "'https://www.google.com/search?q=Data+Analyst+New+York,+New+York&ibp=htl;jobs#fpstate=tldetail&htidocid=bNuueDIcYnkfbPOvAAAAAA%3D%3D&htivrt=jobs'"
      ]
     },
     "execution_count": 17,
     "metadata": {},
     "output_type": "execute_result"
    }
   ],
   "source": [
    "url"
   ]
  },
  {
   "cell_type": "code",
   "execution_count": null,
   "metadata": {},
   "outputs": [],
   "source": []
  },
  {
   "cell_type": "code",
   "execution_count": null,
   "metadata": {},
   "outputs": [],
   "source": []
  },
  {
   "cell_type": "code",
   "execution_count": null,
   "metadata": {},
   "outputs": [],
   "source": []
  },
  {
   "cell_type": "code",
   "execution_count": null,
   "metadata": {},
   "outputs": [],
   "source": []
  },
  {
   "cell_type": "code",
   "execution_count": null,
   "metadata": {},
   "outputs": [],
   "source": []
  },
  {
   "cell_type": "code",
   "execution_count": null,
   "metadata": {},
   "outputs": [],
   "source": []
  },
  {
   "cell_type": "code",
   "execution_count": 193,
   "metadata": {},
   "outputs": [
    {
     "name": "stdout",
     "output_type": "stream",
     "text": [
      "https://www.linkedin.com/jobs/search?keywords=Data%20Scientist&location=San%20Francisco%2C%20California%2C%20United%20States&trk=homepage-basic_jobs-search-bar_search-submit&redirect=false&position=1&pageNum=0\n",
      "(25, 11)\n",
      "https://www.linkedin.com/jobs/search?keywords=Data%20Analyst&location=San%20Francisco%2C%20California%2C%20United%20States&trk=homepage-basic_jobs-search-bar_search-submit&redirect=false&position=1&pageNum=0\n",
      "(50, 11)\n",
      "https://www.linkedin.com/jobs/search?keywords=Data%20Scientist&location=Honolulu%2C%20Hawaii%2C%20United%20States&trk=homepage-basic_jobs-search-bar_search-submit&redirect=false&position=1&pageNum=0\n",
      "(68, 11)\n",
      "https://www.linkedin.com/jobs/search?keywords=Data%20Analyst&location=Honolulu%2C%20Hawaii%2C%20United%20States&trk=homepage-basic_jobs-search-bar_search-submit&redirect=false&position=1&pageNum=0\n",
      "(93, 11)\n",
      "https://www.linkedin.com/jobs/search?keywords=Data%20Scientist&location=New%20York%2C%20York%2C%20United%20States&trk=homepage-basic_jobs-search-bar_search-submit&redirect=false&position=1&pageNum=0\n",
      "(118, 11)\n",
      "https://www.linkedin.com/jobs/search?keywords=Data%20Analyst&location=New%20York%2C%20York%2C%20United%20States&trk=homepage-basic_jobs-search-bar_search-submit&redirect=false&position=1&pageNum=0\n",
      "(143, 11)\n"
     ]
    }
   ],
   "source": [
    "if __name__ == '__main__':\n",
    "\n",
    "    cities = ['San Francisco, California', 'Honolulu, Hawaii', 'New York, New York']\n",
    "\n",
    "    roles = ['Data Scientist',\n",
    "    'Data Analyst']\n",
    "    #'Business Analyst',\n",
    "    #'Business Intelligence',\n",
    "    #'Data Engineer',\n",
    "    #'Machine Learning Engineer',\n",
    "    #'Machine Learning Scientist',\n",
    "    #'Artificial Intelligence Researcher',\n",
    "    #'Statistical Modeler']\n",
    "\n",
    "    df_main = pd.DataFrame()\n",
    "    for city in cities:\n",
    "        for role in roles:\n",
    "            url =get_url(city, role)\n",
    "            print(url)\n",
    "            soup = get_names(url)\n",
    "            df = get_divs(soup)\n",
    "            \n",
    "            df = add_full_desc(df)\n",
    "            \n",
    "            frames = [df_main, df]\n",
    "            result = pd.concat(frames)\n",
    "            df_main = result\n",
    "            print(df_main.shape)\n",
    "\n",
    "    datetime.now().month, datetime.now().day\n",
    "        "
   ]
  },
  {
   "cell_type": "code",
   "execution_count": 198,
   "metadata": {},
   "outputs": [
    {
     "data": {
      "text/plain": [
       "28"
      ]
     },
     "execution_count": 198,
     "metadata": {},
     "output_type": "execute_result"
    }
   ],
   "source": [
    "datetime.now().day"
   ]
  },
  {
   "cell_type": "code",
   "execution_count": 194,
   "metadata": {},
   "outputs": [
    {
     "data": {
      "text/plain": [
       "(143, 11)"
      ]
     },
     "execution_count": 194,
     "metadata": {},
     "output_type": "execute_result"
    }
   ],
   "source": [
    "df_main.shape"
   ]
  },
  {
   "cell_type": "code",
   "execution_count": 480,
   "metadata": {},
   "outputs": [],
   "source": [
    "url = 'https://www.linkedin.com/jobs/view/data-analyst-at-kgs-technology-group-inc-1163865464?position=3&pageNum=0&trk=guest_job_search_job-result-card_result-card_full-click'\n",
    "soup = get_names(url)\n",
    "\n",
    "\n"
   ]
  },
  {
   "cell_type": "code",
   "execution_count": 13,
   "metadata": {},
   "outputs": [],
   "source": [
    "test_url = df.iloc[0, 5]"
   ]
  },
  {
   "cell_type": "code",
   "execution_count": null,
   "metadata": {},
   "outputs": [],
   "source": []
  },
  {
   "cell_type": "code",
   "execution_count": null,
   "metadata": {},
   "outputs": [],
   "source": []
  },
  {
   "cell_type": "code",
   "execution_count": null,
   "metadata": {},
   "outputs": [],
   "source": []
  },
  {
   "cell_type": "code",
   "execution_count": 348,
   "metadata": {},
   "outputs": [],
   "source": [
    "df = get_divs(soup)"
   ]
  },
  {
   "cell_type": "code",
   "execution_count": 349,
   "metadata": {},
   "outputs": [
    {
     "data": {
      "text/html": [
       "<div>\n",
       "<style scoped>\n",
       "    .dataframe tbody tr th:only-of-type {\n",
       "        vertical-align: middle;\n",
       "    }\n",
       "\n",
       "    .dataframe tbody tr th {\n",
       "        vertical-align: top;\n",
       "    }\n",
       "\n",
       "    .dataframe thead th {\n",
       "        text-align: right;\n",
       "    }\n",
       "</style>\n",
       "<table border=\"1\" class=\"dataframe\">\n",
       "  <thead>\n",
       "    <tr style=\"text-align: right;\">\n",
       "      <th></th>\n",
       "      <th>company</th>\n",
       "      <th>location</th>\n",
       "      <th>title</th>\n",
       "      <th>post_date</th>\n",
       "      <th>description</th>\n",
       "      <th>url</th>\n",
       "    </tr>\n",
       "  </thead>\n",
       "  <tbody>\n",
       "    <tr>\n",
       "      <th>0</th>\n",
       "      <td>Patch.com</td>\n",
       "      <td>New York, New York</td>\n",
       "      <td>Data Analyst</td>\n",
       "      <td>2019-07-22</td>\n",
       "      <td>Patch is seeking a motivated and meticulous da...</td>\n",
       "      <td>https://www.linkedin.com/jobs/view/data-analys...</td>\n",
       "    </tr>\n",
       "    <tr>\n",
       "      <th>1</th>\n",
       "      <td>Infosys Limited</td>\n",
       "      <td>New York, New York</td>\n",
       "      <td>Data Analyst</td>\n",
       "      <td>2019-07-23</td>\n",
       "      <td>Desired Skills &amp; Experience.           Experie...</td>\n",
       "      <td>https://www.linkedin.com/jobs/view/data-analys...</td>\n",
       "    </tr>\n",
       "    <tr>\n",
       "      <th>2</th>\n",
       "      <td>KGS Technology Group, Inc</td>\n",
       "      <td>New York, New York, United States</td>\n",
       "      <td>Data Analyst</td>\n",
       "      <td>2019-06-28</td>\n",
       "      <td>We are looking for a passionate Data Analyst t...</td>\n",
       "      <td>https://www.linkedin.com/jobs/view/data-analys...</td>\n",
       "    </tr>\n",
       "    <tr>\n",
       "      <th>3</th>\n",
       "      <td>Jobs @ TheJobNetwork</td>\n",
       "      <td>New York City, NY, US</td>\n",
       "      <td>Senior Data Operations Analyst, Data Analytics</td>\n",
       "      <td>2019-07-26</td>\n",
       "      <td>Some knowledge of advanced statistical techniq...</td>\n",
       "      <td>https://www.linkedin.com/jobs/view/senior-data...</td>\n",
       "    </tr>\n",
       "    <tr>\n",
       "      <th>4</th>\n",
       "      <td>Barclays Investment Bank</td>\n",
       "      <td>Whippany, NJ, US</td>\n",
       "      <td>Data Analyst</td>\n",
       "      <td>2019-06-25</td>\n",
       "      <td>What will you be doing? What We’re Looking For...</td>\n",
       "      <td>https://www.linkedin.com/jobs/view/data-analys...</td>\n",
       "    </tr>\n",
       "  </tbody>\n",
       "</table>\n",
       "</div>"
      ],
      "text/plain": [
       "                     company                           location  \\\n",
       "0                  Patch.com                 New York, New York   \n",
       "1            Infosys Limited                 New York, New York   \n",
       "2  KGS Technology Group, Inc  New York, New York, United States   \n",
       "3       Jobs @ TheJobNetwork              New York City, NY, US   \n",
       "4   Barclays Investment Bank                   Whippany, NJ, US   \n",
       "\n",
       "                                            title   post_date  \\\n",
       "0                                    Data Analyst  2019-07-22   \n",
       "1                                    Data Analyst  2019-07-23   \n",
       "2                                    Data Analyst  2019-06-28   \n",
       "3  Senior Data Operations Analyst, Data Analytics  2019-07-26   \n",
       "4                                    Data Analyst  2019-06-25   \n",
       "\n",
       "                                         description  \\\n",
       "0  Patch is seeking a motivated and meticulous da...   \n",
       "1  Desired Skills & Experience.           Experie...   \n",
       "2  We are looking for a passionate Data Analyst t...   \n",
       "3  Some knowledge of advanced statistical techniq...   \n",
       "4  What will you be doing? What We’re Looking For...   \n",
       "\n",
       "                                                 url  \n",
       "0  https://www.linkedin.com/jobs/view/data-analys...  \n",
       "1  https://www.linkedin.com/jobs/view/data-analys...  \n",
       "2  https://www.linkedin.com/jobs/view/data-analys...  \n",
       "3  https://www.linkedin.com/jobs/view/senior-data...  \n",
       "4  https://www.linkedin.com/jobs/view/data-analys...  "
      ]
     },
     "execution_count": 349,
     "metadata": {},
     "output_type": "execute_result"
    }
   ],
   "source": [
    "df.head()"
   ]
  },
  {
   "cell_type": "code",
   "execution_count": 301,
   "metadata": {},
   "outputs": [],
   "source": [
    "url\n",
    "soup = get_names(url)"
   ]
  },
  {
   "cell_type": "code",
   "execution_count": 302,
   "metadata": {},
   "outputs": [
    {
     "data": {
      "text/plain": [
       "'https://www.linkedin.com/jobs/search?keywords=Data%20Analyst&location=%2C%20York%2C%20United%20States&trk=homepage-basic_jobs-search-bar_search-submit&redirect=false&position=1&pageNum=0'"
      ]
     },
     "execution_count": 302,
     "metadata": {},
     "output_type": "execute_result"
    }
   ],
   "source": [
    "url"
   ]
  },
  {
   "cell_type": "code",
   "execution_count": null,
   "metadata": {},
   "outputs": [],
   "source": []
  }
 ],
 "metadata": {
  "kernelspec": {
   "display_name": "Python 3",
   "language": "python",
   "name": "python3"
  },
  "language_info": {
   "codemirror_mode": {
    "name": "ipython",
    "version": 3
   },
   "file_extension": ".py",
   "mimetype": "text/x-python",
   "name": "python",
   "nbconvert_exporter": "python",
   "pygments_lexer": "ipython3",
   "version": "3.7.3"
  }
 },
 "nbformat": 4,
 "nbformat_minor": 2
}
